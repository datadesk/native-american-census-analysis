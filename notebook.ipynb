{
 "cells": [
  {
   "cell_type": "markdown",
   "metadata": {},
   "source": [
    "# Hard-to-count reservations analysis\n",
    "\n",
    "By [Ben Welsh](https://palewi.re/who-is-ben-welsh/) and [Sandhya Kambhampati]()\n",
    "\n",
    "The analysis was conducted for the June X, 2019, Los Angeles Times story [Headline TK](). \n",
    "\n",
    "It found that as the 2020 census nears, concerns about an undercount of Native Americans is gaining traction here and across the country. The finding was based, in part, on a review of public data, as well as some original analysis by The Times. \n",
    "\n",
    "The finding from our research:\n",
    "\n",
    "* Nearly 600,000 Native Americans live on tribal reservations, semi-sovereign entities governed by elected indigenous leaders. On the Navajo Nation — the country’s largest reservation — 175,000 people live in a mostly rural high desert area bigger than West Virginia.\n",
    "\n",
    "* During the 2010 count, one out of every seven Native Americans living on a reservation was missed, according to an audit by the U.S. Census Bureau. That adds up to 82,000 people overlooked and uncounted — equal to skipping the entire city of Santa Fe, New Mexico’s capital.\n",
    "\n",
    "* The Census Bureau’s struggles in 2010 resulted in more than 80% of reservation lands being ranked among the country’s hardest-to-count areas, according to a Times analysis of estimates published by the City University of New York.\n",
    "\n",
    "Here's how we arrived at each conclusion."
   ]
  },
  {
   "cell_type": "markdown",
   "metadata": {},
   "source": [
    "### Import Python tools\n",
    "\n",
    "The tools we used to do our work."
   ]
  },
  {
   "cell_type": "code",
   "execution_count": 3,
   "metadata": {},
   "outputs": [],
   "source": [
    "import pandas as pd\n",
    "import geopandas as gpd"
   ]
  },
  {
   "cell_type": "markdown",
   "metadata": {},
   "source": [
    "Utilities to download Census data from the Data Desk's [census-data-downloader](https://github.com/datadesk/census-data-downloader/)"
   ]
  },
  {
   "cell_type": "code",
   "execution_count": 11,
   "metadata": {},
   "outputs": [],
   "source": [
    "read_acs = lambda x: pd.read_csv(\n",
    "    f\"https://raw.githubusercontent.com/datadesk/census-data-downloader/ba0ca0fcf30ebcaf7a42d2babbccb1b057312e3f/data/processed/acs5_2017_{x}.csv\",\n",
    "    dtype={\"geoid\": str}\n",
    ")"
   ]
  },
  {
   "cell_type": "markdown",
   "metadata": {},
   "source": [
    "### The Native American population"
   ]
  },
  {
   "cell_type": "markdown",
   "metadata": {},
   "source": [
    "After the 2010 count, the Census Bureau conducted an internal audit known as the \"Coverage Measurement Analysis.\" It concluded that there are roughly 600,000 Native Americans living on a federal reservations. This number was confirmed by a press office at the bureau."
   ]
  },
  {
   "cell_type": "code",
   "execution_count": null,
   "metadata": {},
   "outputs": [],
   "source": [
    "# DocumentCloud embed goes here"
   ]
  },
  {
   "cell_type": "markdown",
   "metadata": {},
   "source": [
    "Navajo Nation's total population, roughly 175,000, is available from the bureau's American Community Survey."
   ]
  },
  {
   "cell_type": "code",
   "execution_count": 13,
   "metadata": {},
   "outputs": [],
   "source": [
    "raw_homeland_population = read_acs(\"population_aiannhhomeland\")"
   ]
  },
  {
   "cell_type": "code",
   "execution_count": 14,
   "metadata": {},
   "outputs": [
    {
     "data": {
      "text/html": [
       "<div>\n",
       "<style scoped>\n",
       "    .dataframe tbody tr th:only-of-type {\n",
       "        vertical-align: middle;\n",
       "    }\n",
       "\n",
       "    .dataframe tbody tr th {\n",
       "        vertical-align: top;\n",
       "    }\n",
       "\n",
       "    .dataframe thead th {\n",
       "        text-align: right;\n",
       "    }\n",
       "</style>\n",
       "<table border=\"1\" class=\"dataframe\">\n",
       "  <thead>\n",
       "    <tr style=\"text-align: right;\">\n",
       "      <th></th>\n",
       "      <th>geoid</th>\n",
       "      <th>name</th>\n",
       "      <th>universe</th>\n",
       "      <th>american indian area/alaska native area/hawaiian home land</th>\n",
       "    </tr>\n",
       "  </thead>\n",
       "  <tbody>\n",
       "    <tr>\n",
       "      <th>175</th>\n",
       "      <td>2430</td>\n",
       "      <td>Navajo Nation Reservation and Off-Reservation ...</td>\n",
       "      <td>175005.0</td>\n",
       "      <td>2430</td>\n",
       "    </tr>\n",
       "  </tbody>\n",
       "</table>\n",
       "</div>"
      ],
      "text/plain": [
       "    geoid                                               name  universe  \\\n",
       "175  2430  Navajo Nation Reservation and Off-Reservation ...  175005.0   \n",
       "\n",
       "     american indian area/alaska native area/hawaiian home land  \n",
       "175                                               2430           "
      ]
     },
     "execution_count": 14,
     "metadata": {},
     "output_type": "execute_result"
    }
   ],
   "source": [
    "raw_homeland_population[raw_homeland_population.name.str.contains(\"Navajo Nation\")]"
   ]
  },
  {
   "cell_type": "markdown",
   "metadata": {},
   "source": [
    "### The Native American undercount"
   ]
  },
  {
   "cell_type": "markdown",
   "metadata": {},
   "source": [
    "The \"Coverage Measurement Analysis\" also estimated the the undercount of Native Americans on reservations. It found a statistically significant net 5% undercount, which includes people counted twice, people imputed entirely by statistics and people missed entirely. The total number of people missed, known as the omission rate, was 13.8%. This number was confirmed by the press office at the bureau."
   ]
  },
  {
   "cell_type": "code",
   "execution_count": null,
   "metadata": {},
   "outputs": [],
   "source": []
  },
  {
   "cell_type": "markdown",
   "metadata": {},
   "source": [
    "### The hard-to-count areas"
   ]
  },
  {
   "cell_type": "code",
   "execution_count": null,
   "metadata": {},
   "outputs": [],
   "source": []
  },
  {
   "cell_type": "markdown",
   "metadata": {},
   "source": [
    "#### Hard to count tracts"
   ]
  },
  {
   "cell_type": "markdown",
   "metadata": {},
   "source": [
    "Import every Census tract with its hard-to-count status according to the [Center for Urban Research at the City University of New York Graduate Center](https://www.censushardtocountmaps2020.us/)."
   ]
  },
  {
   "cell_type": "code",
   "execution_count": 3,
   "metadata": {},
   "outputs": [],
   "source": [
    "tracts = gpd.read_file(\"data/analysis/hard-to-count-tracts.geojson\")"
   ]
  },
  {
   "cell_type": "code",
   "execution_count": 4,
   "metadata": {},
   "outputs": [
    {
     "data": {
      "text/html": [
       "<div>\n",
       "<style scoped>\n",
       "    .dataframe tbody tr th:only-of-type {\n",
       "        vertical-align: middle;\n",
       "    }\n",
       "\n",
       "    .dataframe tbody tr th {\n",
       "        vertical-align: top;\n",
       "    }\n",
       "\n",
       "    .dataframe thead th {\n",
       "        text-align: right;\n",
       "    }\n",
       "</style>\n",
       "<table border=\"1\" class=\"dataframe\">\n",
       "  <thead>\n",
       "    <tr style=\"text-align: right;\">\n",
       "      <th></th>\n",
       "      <th>geoid</th>\n",
       "      <th>state</th>\n",
       "      <th>county</th>\n",
       "      <th>pop</th>\n",
       "      <th>mrr</th>\n",
       "      <th>mrr_htc</th>\n",
       "      <th>ue</th>\n",
       "      <th>htc</th>\n",
       "      <th>geometry</th>\n",
       "    </tr>\n",
       "  </thead>\n",
       "  <tbody>\n",
       "    <tr>\n",
       "      <th>0</th>\n",
       "      <td>01005950300</td>\n",
       "      <td>Alabama</td>\n",
       "      <td>Barbour County</td>\n",
       "      <td>1813</td>\n",
       "      <td>77.9</td>\n",
       "      <td>0</td>\n",
       "      <td>0</td>\n",
       "      <td>0</td>\n",
       "      <td>POLYGON ((-85.52744143500958 31.86650898512998...</td>\n",
       "    </tr>\n",
       "    <tr>\n",
       "      <th>1</th>\n",
       "      <td>01005950900</td>\n",
       "      <td>Alabama</td>\n",
       "      <td>Barbour County</td>\n",
       "      <td>3888</td>\n",
       "      <td>74.6</td>\n",
       "      <td>0</td>\n",
       "      <td>0</td>\n",
       "      <td>0</td>\n",
       "      <td>POLYGON ((-85.16412632985951 31.83060098962552...</td>\n",
       "    </tr>\n",
       "    <tr>\n",
       "      <th>2</th>\n",
       "      <td>01005950800</td>\n",
       "      <td>Alabama</td>\n",
       "      <td>Barbour County</td>\n",
       "      <td>2157</td>\n",
       "      <td>83.5</td>\n",
       "      <td>0</td>\n",
       "      <td>0</td>\n",
       "      <td>0</td>\n",
       "      <td>POLYGON ((-85.14872232914963 31.90934100751823...</td>\n",
       "    </tr>\n",
       "    <tr>\n",
       "      <th>3</th>\n",
       "      <td>01005950700</td>\n",
       "      <td>Alabama</td>\n",
       "      <td>Barbour County</td>\n",
       "      <td>1775</td>\n",
       "      <td>79.6</td>\n",
       "      <td>0</td>\n",
       "      <td>0</td>\n",
       "      <td>0</td>\n",
       "      <td>POLYGON ((-85.14578832747586 31.89149700368442...</td>\n",
       "    </tr>\n",
       "    <tr>\n",
       "      <th>4</th>\n",
       "      <td>01005950600</td>\n",
       "      <td>Alabama</td>\n",
       "      <td>Barbour County</td>\n",
       "      <td>2120</td>\n",
       "      <td>79.4</td>\n",
       "      <td>0</td>\n",
       "      <td>0</td>\n",
       "      <td>0</td>\n",
       "      <td>POLYGON ((-85.14572732739356 31.8901120033811,...</td>\n",
       "    </tr>\n",
       "  </tbody>\n",
       "</table>\n",
       "</div>"
      ],
      "text/plain": [
       "         geoid    state          county   pop   mrr  mrr_htc  ue  htc  \\\n",
       "0  01005950300  Alabama  Barbour County  1813  77.9        0   0    0   \n",
       "1  01005950900  Alabama  Barbour County  3888  74.6        0   0    0   \n",
       "2  01005950800  Alabama  Barbour County  2157  83.5        0   0    0   \n",
       "3  01005950700  Alabama  Barbour County  1775  79.6        0   0    0   \n",
       "4  01005950600  Alabama  Barbour County  2120  79.4        0   0    0   \n",
       "\n",
       "                                            geometry  \n",
       "0  POLYGON ((-85.52744143500958 31.86650898512998...  \n",
       "1  POLYGON ((-85.16412632985951 31.83060098962552...  \n",
       "2  POLYGON ((-85.14872232914963 31.90934100751823...  \n",
       "3  POLYGON ((-85.14578832747586 31.89149700368442...  \n",
       "4  POLYGON ((-85.14572732739356 31.8901120033811,...  "
      ]
     },
     "execution_count": 4,
     "metadata": {},
     "output_type": "execute_result"
    }
   ],
   "source": [
    "tracts.head()"
   ]
  },
  {
   "cell_type": "markdown",
   "metadata": {},
   "source": [
    "How many Census tracts are there total?"
   ]
  },
  {
   "cell_type": "code",
   "execution_count": 4,
   "metadata": {},
   "outputs": [
    {
     "data": {
      "text/plain": [
       "72845"
      ]
     },
     "execution_count": 4,
     "metadata": {},
     "output_type": "execute_result"
    }
   ],
   "source": [
    "len(tracts)"
   ]
  },
  {
   "cell_type": "markdown",
   "metadata": {},
   "source": [
    "Filter down to just the hard to count tracts"
   ]
  },
  {
   "cell_type": "code",
   "execution_count": 6,
   "metadata": {},
   "outputs": [],
   "source": [
    "htc = tracts[tracts.htc >= 1]"
   ]
  },
  {
   "cell_type": "markdown",
   "metadata": {},
   "source": [
    "How many hard to county tracts are there?"
   ]
  },
  {
   "cell_type": "code",
   "execution_count": 7,
   "metadata": {},
   "outputs": [
    {
     "data": {
      "text/plain": [
       "14800"
      ]
     },
     "execution_count": 7,
     "metadata": {},
     "output_type": "execute_result"
    }
   ],
   "source": [
    "len(htc)"
   ]
  },
  {
   "cell_type": "markdown",
   "metadata": {},
   "source": [
    "Write that out to a SHP"
   ]
  },
  {
   "cell_type": "code",
   "execution_count": 8,
   "metadata": {},
   "outputs": [],
   "source": [
    "htc.to_file(\"./data/analysis/htc-tracts.shp\")"
   ]
  },
  {
   "cell_type": "markdown",
   "metadata": {},
   "source": [
    "#### Tribal reservations"
   ]
  },
  {
   "cell_type": "markdown",
   "metadata": {},
   "source": [
    "Read in tribal homelands from the [U.S. Census Bureau's TIGER/Line Shapefiles service](https://www.census.gov/cgi-bin/geo/shapefiles/index.php)."
   ]
  },
  {
   "cell_type": "code",
   "execution_count": 9,
   "metadata": {},
   "outputs": [],
   "source": [
    "raw_homelands = gpd.read_file(\"data/tiger/tl_2018_us_aiannh/tl_2018_us_aiannh.shp\")"
   ]
  },
  {
   "cell_type": "code",
   "execution_count": null,
   "metadata": {},
   "outputs": [],
   "source": [
    "raw_homelands.head()"
   ]
  },
  {
   "cell_type": "markdown",
   "metadata": {},
   "source": [
    "Clean that up."
   ]
  },
  {
   "cell_type": "code",
   "execution_count": 10,
   "metadata": {},
   "outputs": [],
   "source": [
    "trimmed_homelands = raw_homelands[['AIANNHCE', 'NAMELSAD', 'geometry']]"
   ]
  },
  {
   "cell_type": "code",
   "execution_count": 11,
   "metadata": {},
   "outputs": [],
   "source": [
    "prepped_homelands = trimmed_homelands.rename(columns={\n",
    "    \"AIANNHCE\": \"geoid\",\n",
    "    \"NAMELSAD\": \"name\",\n",
    "})"
   ]
  },
  {
   "cell_type": "code",
   "execution_count": 12,
   "metadata": {},
   "outputs": [
    {
     "data": {
      "text/html": [
       "<div>\n",
       "<style scoped>\n",
       "    .dataframe tbody tr th:only-of-type {\n",
       "        vertical-align: middle;\n",
       "    }\n",
       "\n",
       "    .dataframe tbody tr th {\n",
       "        vertical-align: top;\n",
       "    }\n",
       "\n",
       "    .dataframe thead th {\n",
       "        text-align: right;\n",
       "    }\n",
       "</style>\n",
       "<table border=\"1\" class=\"dataframe\">\n",
       "  <thead>\n",
       "    <tr style=\"text-align: right;\">\n",
       "      <th></th>\n",
       "      <th>geoid</th>\n",
       "      <th>name</th>\n",
       "      <th>geometry</th>\n",
       "    </tr>\n",
       "  </thead>\n",
       "  <tbody>\n",
       "    <tr>\n",
       "      <th>0</th>\n",
       "      <td>2320</td>\n",
       "      <td>Mohegan Reservation</td>\n",
       "      <td>(POLYGON ((-72.089125 41.480395, -72.089004 41...</td>\n",
       "    </tr>\n",
       "    <tr>\n",
       "      <th>1</th>\n",
       "      <td>9100</td>\n",
       "      <td>Golden Hill Paugussett (state) Reservation</td>\n",
       "      <td>(POLYGON ((-72.26917299999999 41.554725, -72.2...</td>\n",
       "    </tr>\n",
       "    <tr>\n",
       "      <th>2</th>\n",
       "      <td>4110</td>\n",
       "      <td>Table Mountain Rancheria</td>\n",
       "      <td>POLYGON ((-119.640915 36.984246, -119.640807 3...</td>\n",
       "    </tr>\n",
       "    <tr>\n",
       "      <th>3</th>\n",
       "      <td>1380</td>\n",
       "      <td>Greenville Rancheria</td>\n",
       "      <td>POLYGON ((-120.897365 40.150998, -120.897334 4...</td>\n",
       "    </tr>\n",
       "    <tr>\n",
       "      <th>4</th>\n",
       "      <td>1110</td>\n",
       "      <td>Flathead Reservation</td>\n",
       "      <td>POLYGON ((-114.851209 47.887207, -114.819894 4...</td>\n",
       "    </tr>\n",
       "  </tbody>\n",
       "</table>\n",
       "</div>"
      ],
      "text/plain": [
       "  geoid                                        name  \\\n",
       "0  2320                         Mohegan Reservation   \n",
       "1  9100  Golden Hill Paugussett (state) Reservation   \n",
       "2  4110                    Table Mountain Rancheria   \n",
       "3  1380                        Greenville Rancheria   \n",
       "4  1110                        Flathead Reservation   \n",
       "\n",
       "                                            geometry  \n",
       "0  (POLYGON ((-72.089125 41.480395, -72.089004 41...  \n",
       "1  (POLYGON ((-72.26917299999999 41.554725, -72.2...  \n",
       "2  POLYGON ((-119.640915 36.984246, -119.640807 3...  \n",
       "3  POLYGON ((-120.897365 40.150998, -120.897334 4...  \n",
       "4  POLYGON ((-114.851209 47.887207, -114.819894 4...  "
      ]
     },
     "execution_count": 12,
     "metadata": {},
     "output_type": "execute_result"
    }
   ],
   "source": [
    "prepped_homelands.head()"
   ]
  },
  {
   "cell_type": "markdown",
   "metadata": {},
   "source": [
    "The homelands come in a variety of types. Only a subset are the federally-recognized resevations we want to study."
   ]
  },
  {
   "cell_type": "code",
   "execution_count": 6,
   "metadata": {},
   "outputs": [],
   "source": [
    "def get_geotype(geoid):\n",
    "    \"\"\"\n",
    "    Accepts the GEOID of a American Indian, Alaska Native or Native Hawaiian homeland.\n",
    "    \n",
    "    Returns which type of homeland it is.\n",
    "    \n",
    "    They are defined on pages 47 and 48 of this Census Bureau document:\n",
    "    \n",
    "        https://www.census.gov/prod/cen2010/doc/pl94-171.pdf\n",
    "    \"\"\"\n",
    "    val = int(geoid)\n",
    "    if val < 5000:\n",
    "        return 'Federal reservation or trust land'\n",
    "    elif val < 5500:\n",
    "        return 'Hawaiian home land'\n",
    "    elif val < 6000:\n",
    "        return 'Oklahoma tribal statistical area'\n",
    "    elif val < 8000:\n",
    "        return 'Alaska native village statistical area'\n",
    "    elif val < 9000:\n",
    "        return 'Tribal-designated statistical area'\n",
    "    elif val < 9500:\n",
    "        return 'State reservation'\n",
    "    elif val < 9999:\n",
    "        return 'State-designated tribal statistical area'"
   ]
  },
  {
   "cell_type": "code",
   "execution_count": 15,
   "metadata": {},
   "outputs": [],
   "source": [
    "prepped_tribal['geotype'] = prepped_tribal.geoid.apply(get_geotype)"
   ]
  },
  {
   "cell_type": "code",
   "execution_count": 16,
   "metadata": {},
   "outputs": [
    {
     "data": {
      "text/plain": [
       "Federal reservation or trust land           477\n",
       "Alaska native village statistical area      220\n",
       "Hawaiian home land                           75\n",
       "State-designated tribal statistical area     30\n",
       "Oklahoma tribal statistical area             29\n",
       "State reservation                            10\n",
       "Tribal-designated statistical area            4\n",
       "Name: geotype, dtype: int64"
      ]
     },
     "execution_count": 16,
     "metadata": {},
     "output_type": "execute_result"
    }
   ],
   "source": [
    "prepped_tribal.geotype.value_counts(dropna=False)"
   ]
  },
  {
   "cell_type": "code",
   "execution_count": 18,
   "metadata": {},
   "outputs": [
    {
     "data": {
      "text/html": [
       "<div>\n",
       "<style scoped>\n",
       "    .dataframe tbody tr th:only-of-type {\n",
       "        vertical-align: middle;\n",
       "    }\n",
       "\n",
       "    .dataframe tbody tr th {\n",
       "        vertical-align: top;\n",
       "    }\n",
       "\n",
       "    .dataframe thead th {\n",
       "        text-align: right;\n",
       "    }\n",
       "</style>\n",
       "<table border=\"1\" class=\"dataframe\">\n",
       "  <thead>\n",
       "    <tr style=\"text-align: right;\">\n",
       "      <th></th>\n",
       "      <th>geoid</th>\n",
       "      <th>name</th>\n",
       "      <th>geometry</th>\n",
       "      <th>geotype</th>\n",
       "    </tr>\n",
       "  </thead>\n",
       "  <tbody>\n",
       "    <tr>\n",
       "      <th>476</th>\n",
       "      <td>0010</td>\n",
       "      <td>Acoma Off-Reservation Trust Land</td>\n",
       "      <td>(POLYGON ((-107.606714 34.454814, -107.605615 ...</td>\n",
       "      <td>Federal reservation or trust land</td>\n",
       "    </tr>\n",
       "    <tr>\n",
       "      <th>308</th>\n",
       "      <td>0010</td>\n",
       "      <td>Acoma Pueblo</td>\n",
       "      <td>(POLYGON ((-107.558965 35.071588, -107.558965 ...</td>\n",
       "      <td>Federal reservation or trust land</td>\n",
       "    </tr>\n",
       "    <tr>\n",
       "      <th>814</th>\n",
       "      <td>9510</td>\n",
       "      <td>Adais Caddo SDTSA</td>\n",
       "      <td>(POLYGON ((-93.013549 31.563087, -93.013505999...</td>\n",
       "      <td>State-designated tribal statistical area</td>\n",
       "    </tr>\n",
       "    <tr>\n",
       "      <th>246</th>\n",
       "      <td>0020</td>\n",
       "      <td>Agua Caliente Indian Reservation</td>\n",
       "      <td>(POLYGON ((-116.423049 33.807703, -116.423014 ...</td>\n",
       "      <td>Federal reservation or trust land</td>\n",
       "    </tr>\n",
       "    <tr>\n",
       "      <th>442</th>\n",
       "      <td>0020</td>\n",
       "      <td>Agua Caliente Off-Reservation Trust Land</td>\n",
       "      <td>(POLYGON ((-116.486361 33.791076, -116.486106 ...</td>\n",
       "      <td>Federal reservation or trust land</td>\n",
       "    </tr>\n",
       "    <tr>\n",
       "      <th>571</th>\n",
       "      <td>6015</td>\n",
       "      <td>Akhiok ANVSA</td>\n",
       "      <td>POLYGON ((-154.266866 56.962027, -154.264854 5...</td>\n",
       "      <td>Alaska native village statistical area</td>\n",
       "    </tr>\n",
       "    <tr>\n",
       "      <th>764</th>\n",
       "      <td>6020</td>\n",
       "      <td>Akiachak ANVSA</td>\n",
       "      <td>POLYGON ((-161.487366 60.881786, -161.487158 6...</td>\n",
       "      <td>Alaska native village statistical area</td>\n",
       "    </tr>\n",
       "    <tr>\n",
       "      <th>625</th>\n",
       "      <td>6025</td>\n",
       "      <td>Akiak ANVSA</td>\n",
       "      <td>POLYGON ((-161.23455 60.920581, -161.234417 60...</td>\n",
       "      <td>Alaska native village statistical area</td>\n",
       "    </tr>\n",
       "    <tr>\n",
       "      <th>565</th>\n",
       "      <td>6030</td>\n",
       "      <td>Akutan ANVSA</td>\n",
       "      <td>POLYGON ((-165.808239 54.139897, -165.786582 5...</td>\n",
       "      <td>Alaska native village statistical area</td>\n",
       "    </tr>\n",
       "    <tr>\n",
       "      <th>405</th>\n",
       "      <td>0050</td>\n",
       "      <td>Alabama-Coushatta Off-Reservation Trust Land</td>\n",
       "      <td>(POLYGON ((-94.666544 30.723948, -94.666355999...</td>\n",
       "      <td>Federal reservation or trust land</td>\n",
       "    </tr>\n",
       "  </tbody>\n",
       "</table>\n",
       "</div>"
      ],
      "text/plain": [
       "    geoid                                          name  \\\n",
       "476  0010              Acoma Off-Reservation Trust Land   \n",
       "308  0010                                  Acoma Pueblo   \n",
       "814  9510                             Adais Caddo SDTSA   \n",
       "246  0020              Agua Caliente Indian Reservation   \n",
       "442  0020      Agua Caliente Off-Reservation Trust Land   \n",
       "571  6015                                  Akhiok ANVSA   \n",
       "764  6020                                Akiachak ANVSA   \n",
       "625  6025                                   Akiak ANVSA   \n",
       "565  6030                                  Akutan ANVSA   \n",
       "405  0050  Alabama-Coushatta Off-Reservation Trust Land   \n",
       "\n",
       "                                              geometry  \\\n",
       "476  (POLYGON ((-107.606714 34.454814, -107.605615 ...   \n",
       "308  (POLYGON ((-107.558965 35.071588, -107.558965 ...   \n",
       "814  (POLYGON ((-93.013549 31.563087, -93.013505999...   \n",
       "246  (POLYGON ((-116.423049 33.807703, -116.423014 ...   \n",
       "442  (POLYGON ((-116.486361 33.791076, -116.486106 ...   \n",
       "571  POLYGON ((-154.266866 56.962027, -154.264854 5...   \n",
       "764  POLYGON ((-161.487366 60.881786, -161.487158 6...   \n",
       "625  POLYGON ((-161.23455 60.920581, -161.234417 60...   \n",
       "565  POLYGON ((-165.808239 54.139897, -165.786582 5...   \n",
       "405  (POLYGON ((-94.666544 30.723948, -94.666355999...   \n",
       "\n",
       "                                      geotype  \n",
       "476         Federal reservation or trust land  \n",
       "308         Federal reservation or trust land  \n",
       "814  State-designated tribal statistical area  \n",
       "246         Federal reservation or trust land  \n",
       "442         Federal reservation or trust land  \n",
       "571    Alaska native village statistical area  \n",
       "764    Alaska native village statistical area  \n",
       "625    Alaska native village statistical area  \n",
       "565    Alaska native village statistical area  \n",
       "405         Federal reservation or trust land  "
      ]
     },
     "execution_count": 18,
     "metadata": {},
     "output_type": "execute_result"
    }
   ],
   "source": [
    "prepped_tribal.sort_values(\"name\").head(10)"
   ]
  },
  {
   "cell_type": "markdown",
   "metadata": {},
   "source": [
    "Filter down to just the reservations."
   ]
  },
  {
   "cell_type": "code",
   "execution_count": 25,
   "metadata": {},
   "outputs": [],
   "source": [
    "reservations = prepped_tribal[prepped_tribal.geotype == 'Federal reservation or trust land']"
   ]
  },
  {
   "cell_type": "markdown",
   "metadata": {},
   "source": [
    "Dissolve reservations and trust lands into single shape using their common unique identifier."
   ]
  },
  {
   "cell_type": "code",
   "execution_count": 26,
   "metadata": {},
   "outputs": [],
   "source": [
    "reservations_deduped = reservations.dissolve(by='geoid').reset_index()"
   ]
  },
  {
   "cell_type": "markdown",
   "metadata": {},
   "source": [
    "Run the count again."
   ]
  },
  {
   "cell_type": "code",
   "execution_count": 17,
   "metadata": {},
   "outputs": [
    {
     "ename": "NameError",
     "evalue": "name 'reservations_deduped' is not defined",
     "output_type": "error",
     "traceback": [
      "\u001b[0;31m---------------------------------------------------------------------------\u001b[0m",
      "\u001b[0;31mNameError\u001b[0m                                 Traceback (most recent call last)",
      "\u001b[0;32m<ipython-input-17-1ceb9363decd>\u001b[0m in \u001b[0;36m<module>\u001b[0;34m\u001b[0m\n\u001b[0;32m----> 1\u001b[0;31m \u001b[0mreservations_deduped\u001b[0m\u001b[0;34m.\u001b[0m\u001b[0mgeotype\u001b[0m\u001b[0;34m.\u001b[0m\u001b[0mvalue_counts\u001b[0m\u001b[0;34m(\u001b[0m\u001b[0mdropna\u001b[0m\u001b[0;34m=\u001b[0m\u001b[0;32mFalse\u001b[0m\u001b[0;34m)\u001b[0m\u001b[0;34m\u001b[0m\u001b[0;34m\u001b[0m\u001b[0m\n\u001b[0m",
      "\u001b[0;31mNameError\u001b[0m: name 'reservations_deduped' is not defined"
     ]
    }
   ],
   "source": [
    "reservations_deduped.geotype.value_counts(dropna=False)"
   ]
  },
  {
   "cell_type": "markdown",
   "metadata": {},
   "source": [
    "Calculate the total area of each reservation."
   ]
  },
  {
   "cell_type": "code",
   "execution_count": 28,
   "metadata": {},
   "outputs": [],
   "source": [
    "reservations_deduped['area'] = reservations_deduped.to_crs({'proj':'cea'}).geometry.map(lambda p: p.area / 10**6)"
   ]
  },
  {
   "cell_type": "markdown",
   "metadata": {},
   "source": [
    "Show the biggest ones."
   ]
  },
  {
   "cell_type": "code",
   "execution_count": 29,
   "metadata": {},
   "outputs": [
    {
     "data": {
      "text/html": [
       "<div>\n",
       "<style scoped>\n",
       "    .dataframe tbody tr th:only-of-type {\n",
       "        vertical-align: middle;\n",
       "    }\n",
       "\n",
       "    .dataframe tbody tr th {\n",
       "        vertical-align: top;\n",
       "    }\n",
       "\n",
       "    .dataframe thead th {\n",
       "        text-align: right;\n",
       "    }\n",
       "</style>\n",
       "<table border=\"1\" class=\"dataframe\">\n",
       "  <thead>\n",
       "    <tr style=\"text-align: right;\">\n",
       "      <th></th>\n",
       "      <th>geoid</th>\n",
       "      <th>geometry</th>\n",
       "      <th>name</th>\n",
       "      <th>geotype</th>\n",
       "      <th>area</th>\n",
       "    </tr>\n",
       "  </thead>\n",
       "  <tbody>\n",
       "    <tr>\n",
       "      <th>173</th>\n",
       "      <td>2430</td>\n",
       "      <td>(POLYGON ((-107.911233 36.379858, -107.911205 ...</td>\n",
       "      <td>Navajo Nation Reservation</td>\n",
       "      <td>Federal reservation or trust land</td>\n",
       "      <td>62565.921391</td>\n",
       "    </tr>\n",
       "    <tr>\n",
       "      <th>296</th>\n",
       "      <td>4390</td>\n",
       "      <td>(POLYGON ((-111.098505 39.589313, -111.098459 ...</td>\n",
       "      <td>Uintah and Ouray Reservation</td>\n",
       "      <td>Federal reservation or trust land</td>\n",
       "      <td>17674.267493</td>\n",
       "    </tr>\n",
       "    <tr>\n",
       "      <th>284</th>\n",
       "      <td>4200</td>\n",
       "      <td>(POLYGON ((-111.217214 32.103731, -111.217158 ...</td>\n",
       "      <td>Tohono O'odham Nation Reservation</td>\n",
       "      <td>Federal reservation or trust land</td>\n",
       "      <td>11534.986075</td>\n",
       "    </tr>\n",
       "    <tr>\n",
       "      <th>40</th>\n",
       "      <td>0605</td>\n",
       "      <td>(POLYGON ((-100.586764 44.226201, -100.584494 ...</td>\n",
       "      <td>Cheyenne River Reservation</td>\n",
       "      <td>Federal reservation or trust land</td>\n",
       "      <td>11445.301110</td>\n",
       "    </tr>\n",
       "    <tr>\n",
       "      <th>198</th>\n",
       "      <td>2810</td>\n",
       "      <td>POLYGON ((-103.001016 43.600805, -103.001016 4...</td>\n",
       "      <td>Pine Ridge Reservation</td>\n",
       "      <td>Federal reservation or trust land</td>\n",
       "      <td>11275.048911</td>\n",
       "    </tr>\n",
       "  </tbody>\n",
       "</table>\n",
       "</div>"
      ],
      "text/plain": [
       "    geoid                                           geometry  \\\n",
       "173  2430  (POLYGON ((-107.911233 36.379858, -107.911205 ...   \n",
       "296  4390  (POLYGON ((-111.098505 39.589313, -111.098459 ...   \n",
       "284  4200  (POLYGON ((-111.217214 32.103731, -111.217158 ...   \n",
       "40   0605  (POLYGON ((-100.586764 44.226201, -100.584494 ...   \n",
       "198  2810  POLYGON ((-103.001016 43.600805, -103.001016 4...   \n",
       "\n",
       "                                  name                            geotype  \\\n",
       "173          Navajo Nation Reservation  Federal reservation or trust land   \n",
       "296       Uintah and Ouray Reservation  Federal reservation or trust land   \n",
       "284  Tohono O'odham Nation Reservation  Federal reservation or trust land   \n",
       "40          Cheyenne River Reservation  Federal reservation or trust land   \n",
       "198             Pine Ridge Reservation  Federal reservation or trust land   \n",
       "\n",
       "             area  \n",
       "173  62565.921391  \n",
       "296  17674.267493  \n",
       "284  11534.986075  \n",
       "40   11445.301110  \n",
       "198  11275.048911  "
      ]
     },
     "execution_count": 29,
     "metadata": {},
     "output_type": "execute_result"
    }
   ],
   "source": [
    "reservations_deduped.sort_values(\"area\", ascending=False).head()"
   ]
  },
  {
   "cell_type": "markdown",
   "metadata": {},
   "source": [
    "#### Geospatial analysis"
   ]
  },
  {
   "cell_type": "markdown",
   "metadata": {},
   "source": [
    "Reproject the reservations to match the tracts."
   ]
  },
  {
   "cell_type": "code",
   "execution_count": 32,
   "metadata": {},
   "outputs": [],
   "source": [
    "reservations_reprojected = reservations_deduped.to_crs(htc.crs)"
   ]
  },
  {
   "cell_type": "markdown",
   "metadata": {},
   "source": [
    "Return the areas that intersect between the reservations and the hard-to-count tracts."
   ]
  },
  {
   "cell_type": "code",
   "execution_count": 33,
   "metadata": {},
   "outputs": [],
   "source": [
    "intersection = gpd.overlay(reservations_reprojected, htc, how='intersection')"
   ]
  },
  {
   "cell_type": "markdown",
   "metadata": {},
   "source": [
    "How many intersections are there?"
   ]
  },
  {
   "cell_type": "code",
   "execution_count": 35,
   "metadata": {},
   "outputs": [
    {
     "data": {
      "text/plain": [
       "553"
      ]
     },
     "execution_count": 35,
     "metadata": {},
     "output_type": "execute_result"
    }
   ],
   "source": [
    "len(intersection)"
   ]
  },
  {
   "cell_type": "markdown",
   "metadata": {},
   "source": [
    "Dissolve the intersecting tracts using each reservations unique identifier."
   ]
  },
  {
   "cell_type": "code",
   "execution_count": 36,
   "metadata": {},
   "outputs": [],
   "source": [
    "dissolved = intersection.dissolve(by='geoid_1')"
   ]
  },
  {
   "cell_type": "markdown",
   "metadata": {},
   "source": [
    "How many reservations intersect with a hard-to-count tract?"
   ]
  },
  {
   "cell_type": "code",
   "execution_count": 37,
   "metadata": {},
   "outputs": [
    {
     "data": {
      "text/plain": [
       "170"
      ]
     },
     "execution_count": 37,
     "metadata": {},
     "output_type": "execute_result"
    }
   ],
   "source": [
    "len(dissolved)"
   ]
  },
  {
   "cell_type": "markdown",
   "metadata": {},
   "source": [
    "Clean up the dataframe."
   ]
  },
  {
   "cell_type": "code",
   "execution_count": 39,
   "metadata": {},
   "outputs": [],
   "source": [
    "dissolved_trimmed = dissolved.reset_index()[[\n",
    "    'geoid_1',\n",
    "    'name',\n",
    "    'geometry'\n",
    "]]"
   ]
  },
  {
   "cell_type": "code",
   "execution_count": 40,
   "metadata": {},
   "outputs": [],
   "source": [
    "dissolved_prepped = dissolved_trimmed.rename(columns={\n",
    "    \"geoid_1\": \"geoid\",\n",
    "})"
   ]
  },
  {
   "cell_type": "markdown",
   "metadata": {},
   "source": [
    "Calculate the total area of each intersection."
   ]
  },
  {
   "cell_type": "code",
   "execution_count": 42,
   "metadata": {},
   "outputs": [],
   "source": [
    "dissolved_prepped['area'] = dissolved_prepped.to_crs({'proj':'cea'}).geometry.map(lambda p: p.area / 10**6)"
   ]
  },
  {
   "cell_type": "markdown",
   "metadata": {},
   "source": [
    "Merge intersections with the reservations."
   ]
  },
  {
   "cell_type": "code",
   "execution_count": 44,
   "metadata": {},
   "outputs": [],
   "source": [
    "dissolved_merged = dissolved_prepped.merge(\n",
    "    reservations_deduped[['geoid', 'area']],\n",
    "    on=\"geoid\",\n",
    "    suffixes=[\"_htc\", \"_total\"]\n",
    ")"
   ]
  },
  {
   "cell_type": "markdown",
   "metadata": {},
   "source": [
    "Calculate the percent of each reservation's area that intersects with a hard-to-count tract."
   ]
  },
  {
   "cell_type": "code",
   "execution_count": 46,
   "metadata": {},
   "outputs": [],
   "source": [
    "dissolved_merged['pct_htc'] = dissolved_merged.area_htc / dissolved_merged.area_total"
   ]
  },
  {
   "cell_type": "markdown",
   "metadata": {},
   "source": [
    "Show the largest percentages."
   ]
  },
  {
   "cell_type": "code",
   "execution_count": 47,
   "metadata": {},
   "outputs": [
    {
     "data": {
      "text/html": [
       "<div>\n",
       "<style scoped>\n",
       "    .dataframe tbody tr th:only-of-type {\n",
       "        vertical-align: middle;\n",
       "    }\n",
       "\n",
       "    .dataframe tbody tr th {\n",
       "        vertical-align: top;\n",
       "    }\n",
       "\n",
       "    .dataframe thead th {\n",
       "        text-align: right;\n",
       "    }\n",
       "</style>\n",
       "<table border=\"1\" class=\"dataframe\">\n",
       "  <thead>\n",
       "    <tr style=\"text-align: right;\">\n",
       "      <th></th>\n",
       "      <th>geoid</th>\n",
       "      <th>name</th>\n",
       "      <th>geometry</th>\n",
       "      <th>area_htc</th>\n",
       "      <th>area_total</th>\n",
       "      <th>pct_htc</th>\n",
       "    </tr>\n",
       "  </thead>\n",
       "  <tbody>\n",
       "    <tr>\n",
       "      <th>88</th>\n",
       "      <td>2430</td>\n",
       "      <td>Navajo Nation Reservation</td>\n",
       "      <td>(POLYGON ((-108.344659 34.711661, -108.3446588...</td>\n",
       "      <td>62315.774112</td>\n",
       "      <td>62565.921391</td>\n",
       "      <td>0.996002</td>\n",
       "    </tr>\n",
       "    <tr>\n",
       "      <th>151</th>\n",
       "      <td>4390</td>\n",
       "      <td>Uintah and Ouray Reservation</td>\n",
       "      <td>POLYGON ((-110.0241408869228 39.46170078192419...</td>\n",
       "      <td>14963.114044</td>\n",
       "      <td>17674.267493</td>\n",
       "      <td>0.846604</td>\n",
       "    </tr>\n",
       "    <tr>\n",
       "      <th>144</th>\n",
       "      <td>4200</td>\n",
       "      <td>Tohono O'odham Nation Reservation</td>\n",
       "      <td>(POLYGON ((-112.719808 32.967355, -112.719534 ...</td>\n",
       "      <td>11534.902203</td>\n",
       "      <td>11534.986075</td>\n",
       "      <td>0.999993</td>\n",
       "    </tr>\n",
       "    <tr>\n",
       "      <th>18</th>\n",
       "      <td>0605</td>\n",
       "      <td>Cheyenne River Reservation</td>\n",
       "      <td>POLYGON ((-101.8710226103383 44.53181420775375...</td>\n",
       "      <td>11424.555187</td>\n",
       "      <td>11445.301110</td>\n",
       "      <td>0.998187</td>\n",
       "    </tr>\n",
       "    <tr>\n",
       "      <th>139</th>\n",
       "      <td>3970</td>\n",
       "      <td>Standing Rock Reservation</td>\n",
       "      <td>POLYGON ((-101.4702072145578 45.47181753760831...</td>\n",
       "      <td>9486.074003</td>\n",
       "      <td>9486.191063</td>\n",
       "      <td>0.999988</td>\n",
       "    </tr>\n",
       "  </tbody>\n",
       "</table>\n",
       "</div>"
      ],
      "text/plain": [
       "    geoid                               name  \\\n",
       "88   2430          Navajo Nation Reservation   \n",
       "151  4390       Uintah and Ouray Reservation   \n",
       "144  4200  Tohono O'odham Nation Reservation   \n",
       "18   0605         Cheyenne River Reservation   \n",
       "139  3970          Standing Rock Reservation   \n",
       "\n",
       "                                              geometry      area_htc  \\\n",
       "88   (POLYGON ((-108.344659 34.711661, -108.3446588...  62315.774112   \n",
       "151  POLYGON ((-110.0241408869228 39.46170078192419...  14963.114044   \n",
       "144  (POLYGON ((-112.719808 32.967355, -112.719534 ...  11534.902203   \n",
       "18   POLYGON ((-101.8710226103383 44.53181420775375...  11424.555187   \n",
       "139  POLYGON ((-101.4702072145578 45.47181753760831...   9486.074003   \n",
       "\n",
       "       area_total   pct_htc  \n",
       "88   62565.921391  0.996002  \n",
       "151  17674.267493  0.846604  \n",
       "144  11534.986075  0.999993  \n",
       "18   11445.301110  0.998187  \n",
       "139   9486.191063  0.999988  "
      ]
     },
     "execution_count": 47,
     "metadata": {},
     "output_type": "execute_result"
    }
   ],
   "source": [
    "dissolved_merged.sort_values(\"area_htc\", ascending=False).head(5)"
   ]
  },
  {
   "cell_type": "markdown",
   "metadata": {},
   "source": [
    "Show the smallest percentages."
   ]
  },
  {
   "cell_type": "code",
   "execution_count": 48,
   "metadata": {},
   "outputs": [
    {
     "data": {
      "text/html": [
       "<div>\n",
       "<style scoped>\n",
       "    .dataframe tbody tr th:only-of-type {\n",
       "        vertical-align: middle;\n",
       "    }\n",
       "\n",
       "    .dataframe tbody tr th {\n",
       "        vertical-align: top;\n",
       "    }\n",
       "\n",
       "    .dataframe thead th {\n",
       "        text-align: right;\n",
       "    }\n",
       "</style>\n",
       "<table border=\"1\" class=\"dataframe\">\n",
       "  <thead>\n",
       "    <tr style=\"text-align: right;\">\n",
       "      <th></th>\n",
       "      <th>geoid</th>\n",
       "      <th>name</th>\n",
       "      <th>geometry</th>\n",
       "      <th>area_htc</th>\n",
       "      <th>area_total</th>\n",
       "      <th>pct_htc</th>\n",
       "    </tr>\n",
       "  </thead>\n",
       "  <tbody>\n",
       "    <tr>\n",
       "      <th>99</th>\n",
       "      <td>2715</td>\n",
       "      <td>Pauma and Yuima Reservation</td>\n",
       "      <td>(POLYGON ((-116.9321159667102 33.3464051059000...</td>\n",
       "      <td>0.007937</td>\n",
       "      <td>24.252290</td>\n",
       "      <td>3.272689e-04</td>\n",
       "    </tr>\n",
       "    <tr>\n",
       "      <th>67</th>\n",
       "      <td>1850</td>\n",
       "      <td>La Jolla Reservation</td>\n",
       "      <td>(POLYGON ((-116.8410570065867 33.2559419054459...</td>\n",
       "      <td>0.002918</td>\n",
       "      <td>34.957758</td>\n",
       "      <td>8.348507e-05</td>\n",
       "    </tr>\n",
       "    <tr>\n",
       "      <th>15</th>\n",
       "      <td>0495</td>\n",
       "      <td>Capitan Grande Reservation</td>\n",
       "      <td>POLYGON ((-116.6811140223018 32.88451265870786...</td>\n",
       "      <td>0.002156</td>\n",
       "      <td>64.430007</td>\n",
       "      <td>3.346085e-05</td>\n",
       "    </tr>\n",
       "    <tr>\n",
       "      <th>148</th>\n",
       "      <td>4315</td>\n",
       "      <td>Tunica-Biloxi Reservation</td>\n",
       "      <td>(POLYGON ((-92.0626268708872 31.10577978474263...</td>\n",
       "      <td>0.000030</td>\n",
       "      <td>3.149779</td>\n",
       "      <td>9.520608e-06</td>\n",
       "    </tr>\n",
       "    <tr>\n",
       "      <th>96</th>\n",
       "      <td>2635</td>\n",
       "      <td>Pala Reservation</td>\n",
       "      <td>POLYGON ((-117.000974922776 33.38656981010941,...</td>\n",
       "      <td>0.000006</td>\n",
       "      <td>52.706195</td>\n",
       "      <td>1.098324e-07</td>\n",
       "    </tr>\n",
       "  </tbody>\n",
       "</table>\n",
       "</div>"
      ],
      "text/plain": [
       "    geoid                         name  \\\n",
       "99   2715  Pauma and Yuima Reservation   \n",
       "67   1850         La Jolla Reservation   \n",
       "15   0495   Capitan Grande Reservation   \n",
       "148  4315    Tunica-Biloxi Reservation   \n",
       "96   2635             Pala Reservation   \n",
       "\n",
       "                                              geometry  area_htc  area_total  \\\n",
       "99   (POLYGON ((-116.9321159667102 33.3464051059000...  0.007937   24.252290   \n",
       "67   (POLYGON ((-116.8410570065867 33.2559419054459...  0.002918   34.957758   \n",
       "15   POLYGON ((-116.6811140223018 32.88451265870786...  0.002156   64.430007   \n",
       "148  (POLYGON ((-92.0626268708872 31.10577978474263...  0.000030    3.149779   \n",
       "96   POLYGON ((-117.000974922776 33.38656981010941,...  0.000006   52.706195   \n",
       "\n",
       "          pct_htc  \n",
       "99   3.272689e-04  \n",
       "67   8.348507e-05  \n",
       "15   3.346085e-05  \n",
       "148  9.520608e-06  \n",
       "96   1.098324e-07  "
      ]
     },
     "execution_count": 48,
     "metadata": {},
     "output_type": "execute_result"
    }
   ],
   "source": [
    "dissolved_merged.sort_values(\"area_htc\", ascending=False).tail(5)"
   ]
  },
  {
   "cell_type": "markdown",
   "metadata": {},
   "source": [
    "Write out the result to a GeoJSON file."
   ]
  },
  {
   "cell_type": "code",
   "execution_count": 66,
   "metadata": {},
   "outputs": [],
   "source": [
    "dissolved_merged.to_file(\"data/analysis/htc-reservations.geojson\", driver=\"GeoJSON\")"
   ]
  },
  {
   "cell_type": "markdown",
   "metadata": {},
   "source": [
    "How much total reservation land is hard to count?"
   ]
  },
  {
   "cell_type": "code",
   "execution_count": 50,
   "metadata": {},
   "outputs": [
    {
     "data": {
      "text/plain": [
       "239727.28813155653"
      ]
     },
     "execution_count": 50,
     "metadata": {},
     "output_type": "execute_result"
    }
   ],
   "source": [
    "dissolved_merged.area_htc.sum()"
   ]
  },
  {
   "cell_type": "markdown",
   "metadata": {},
   "source": [
    "How much total reservation land is there overall?"
   ]
  },
  {
   "cell_type": "code",
   "execution_count": 51,
   "metadata": {},
   "outputs": [
    {
     "data": {
      "text/plain": [
       "295020.57328184653"
      ]
     },
     "execution_count": 51,
     "metadata": {},
     "output_type": "execute_result"
    }
   ],
   "source": [
    "reservations_deduped['area'].sum()"
   ]
  },
  {
   "cell_type": "markdown",
   "metadata": {},
   "source": [
    "What percentage of reservation land is hard to count?"
   ]
  },
  {
   "cell_type": "code",
   "execution_count": 52,
   "metadata": {},
   "outputs": [
    {
     "data": {
      "text/plain": [
       "0.8125782058681521"
      ]
     },
     "execution_count": 52,
     "metadata": {},
     "output_type": "execute_result"
    }
   ],
   "source": [
    "dissolved_merged.area_htc.sum() / reservations_deduped['area'].sum()"
   ]
  }
 ],
 "metadata": {
  "kernelspec": {
   "display_name": "Python 3",
   "language": "python",
   "name": "python3"
  },
  "language_info": {
   "codemirror_mode": {
    "name": "ipython",
    "version": 3
   },
   "file_extension": ".py",
   "mimetype": "text/x-python",
   "name": "python",
   "nbconvert_exporter": "python",
   "pygments_lexer": "ipython3",
   "version": "3.6.7"
  }
 },
 "nbformat": 4,
 "nbformat_minor": 2
}
