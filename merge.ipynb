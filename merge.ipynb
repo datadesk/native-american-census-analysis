{
 "cells": [
  {
   "cell_type": "markdown",
   "metadata": {},
   "source": [
    "# Hard to count Census tract maps\n",
    "\n",
    "By [Ben Welsh](https://palewi.re/who-is-ben-welsh/)"
   ]
  },
  {
   "cell_type": "code",
   "execution_count": 1,
   "metadata": {},
   "outputs": [],
   "source": [
    "import pandas as pd\n",
    "import geopandas as gpd\n",
    "from tracts import USTractDownloader2010"
   ]
  },
  {
   "cell_type": "markdown",
   "metadata": {},
   "source": [
    "Download a shapefile of all Census tracts from the 2010 Census"
   ]
  },
  {
   "cell_type": "code",
   "execution_count": null,
   "metadata": {},
   "outputs": [],
   "source": [
    "USTractDownloader2010(data_dir=\"data/tiger/\").run()"
   ]
  },
  {
   "cell_type": "markdown",
   "metadata": {},
   "source": [
    "Read it in."
   ]
  },
  {
   "cell_type": "code",
   "execution_count": 2,
   "metadata": {},
   "outputs": [],
   "source": [
    "tracts = gpd.read_file(\"data/tiger/us.shp\")"
   ]
  },
  {
   "cell_type": "markdown",
   "metadata": {},
   "source": [
    "Read in the hard-to-count estimates from CUNY."
   ]
  },
  {
   "cell_type": "code",
   "execution_count": 5,
   "metadata": {},
   "outputs": [],
   "source": [
    "htc = pd.read_excel(\"./data/cuny/pdb2015tract_2010MRR_2017ACS_US.xlsx\", skiprows=5, dtype={\"GEOID\": str, \"GEOIDtxt\": str})"
   ]
  },
  {
   "cell_type": "markdown",
   "metadata": {},
   "source": [
    "Merge the two into a consolidated file."
   ]
  },
  {
   "cell_type": "code",
   "execution_count": 8,
   "metadata": {},
   "outputs": [],
   "source": [
    "merged = tracts.merge(\n",
    "    htc,\n",
    "    left_on=\"GEOID10\",\n",
    "    right_on=\"GEOIDtxt\",\n",
    "    how=\"inner\"\n",
    ")"
   ]
  },
  {
   "cell_type": "markdown",
   "metadata": {},
   "source": [
    "Trim down to only the columns we want."
   ]
  },
  {
   "cell_type": "code",
   "execution_count": 10,
   "metadata": {},
   "outputs": [],
   "source": [
    "trimmed = merged[[\n",
    "    'GEOID10',\n",
    "    'TotPopACS17',\n",
    "    'MRR2010',\n",
    "    'MRR20pctthreshold',\n",
    "    'UE_flag',\n",
    "    'HTCcomboflag',\n",
    "    'geometry'\n",
    "]]"
   ]
  },
  {
   "cell_type": "markdown",
   "metadata": {},
   "source": [
    "Clean up the headers"
   ]
  },
  {
   "cell_type": "code",
   "execution_count": 12,
   "metadata": {},
   "outputs": [],
   "source": [
    "cleaned = trimmed.rename(columns={\n",
    "    \"GEOID10\": \"geoid\",\n",
    "    \"TotPopACS17\": \"pop\",\n",
    "    \"MRR2010\": \"mrr\",\n",
    "    \"MRR20pctthreshold\": \"mrr_htc\",\n",
    "    \"UE_flag\": \"ue\",\n",
    "    \"HTCcomboflag\": \"htc\"\n",
    "})"
   ]
  },
  {
   "cell_type": "markdown",
   "metadata": {},
   "source": [
    "How many tracts are hard to count?"
   ]
  },
  {
   "cell_type": "code",
   "execution_count": 14,
   "metadata": {},
   "outputs": [
    {
     "data": {
      "text/plain": [
       "0    58045\n",
       "1    14793\n",
       "2        7\n",
       "Name: htc, dtype: int64"
      ]
     },
     "execution_count": 14,
     "metadata": {},
     "output_type": "execute_result"
    }
   ],
   "source": [
    "cleaned.htc.value_counts()"
   ]
  },
  {
   "cell_type": "markdown",
   "metadata": {},
   "source": [
    "How many people live in those tracts?"
   ]
  },
  {
   "cell_type": "code",
   "execution_count": 15,
   "metadata": {},
   "outputs": [
    {
     "data": {
      "text/plain": [
       "htc\n",
       "0    260480905\n",
       "1     60374543\n",
       "2        25248\n",
       "Name: pop, dtype: int64"
      ]
     },
     "execution_count": 15,
     "metadata": {},
     "output_type": "execute_result"
    }
   ],
   "source": [
    "cleaned.groupby(\"htc\").pop.sum()"
   ]
  },
  {
   "cell_type": "markdown",
   "metadata": {},
   "source": [
    "What is the distribution of the mail-response rate?"
   ]
  },
  {
   "cell_type": "code",
   "execution_count": 22,
   "metadata": {},
   "outputs": [
    {
     "data": {
      "text/plain": [
       "count    72845.000000\n",
       "mean      1406.622404\n",
       "std      11441.662340\n",
       "min          0.000000\n",
       "20%         73.100000\n",
       "40%         77.900000\n",
       "50%         79.900000\n",
       "60%         81.800000\n",
       "80%         85.500000\n",
       "max      99999.000000\n",
       "Name: mrr, dtype: float64"
      ]
     },
     "execution_count": 22,
     "metadata": {},
     "output_type": "execute_result"
    }
   ],
   "source": [
    "cleaned.mrr.describe(percentiles=[.2, .4, .6, .8])"
   ]
  },
  {
   "cell_type": "markdown",
   "metadata": {},
   "source": [
    "Reproject the maps to CRS 84"
   ]
  },
  {
   "cell_type": "code",
   "execution_count": 30,
   "metadata": {},
   "outputs": [],
   "source": [
    "reprojected = cleaned.to_crs(epsg=4326)"
   ]
  },
  {
   "cell_type": "markdown",
   "metadata": {},
   "source": [
    "Write out a GeoJSON file."
   ]
  },
  {
   "cell_type": "code",
   "execution_count": 31,
   "metadata": {},
   "outputs": [],
   "source": [
    "reprojected.to_file(\"data/analysis/hard-to-count-tracts.geojson\", driver=\"GeoJSON\")"
   ]
  },
  {
   "cell_type": "markdown",
   "metadata": {},
   "source": [
    "Create an mbtiles files for Mapbox"
   ]
  },
  {
   "cell_type": "code",
   "execution_count": 32,
   "metadata": {},
   "outputs": [
    {
     "name": "stdout",
     "output_type": "stream",
     "text": [
      "For layer 0, using name \"hardtocounttracts\"\n",
      "72845 features, 192968458 bytes of geometry, 1355526 bytes of separate metadata, 1009964 bytes of string pool\n",
      "Choosing a maxzoom of -z5 for features about 12554 feet (3827 meters) apart\n",
      "Choosing a maxzoom of -z11 for resolution of about 229 feet (69 meters) within features\n",
      "tile 2/1/1 size is 504857 with detail 12, >500000    \n",
      "Going to try keeping the sparsest 89.13% of the features to make it fit\n",
      "tile 2/1/1 size is 505100 with detail 12, >500000    \n",
      "Going to try keeping the sparsest 79.41% of the features to make it fit\n",
      "tile 2/1/1 size is 504732 with detail 12, >500000    \n",
      "Going to try keeping the sparsest 70.80% of the features to make it fit\n",
      "tile 2/1/1 size is 502371 with detail 12, >500000    \n",
      "Going to try keeping the sparsest 63.42% of the features to make it fit\n",
      "tile 3/2/3 size is 625084 with detail 12, >500000    \n",
      "Going to try keeping the sparsest 71.99% of the features to make it fit\n",
      "tile 3/2/3 size is 596693 with detail 12, >500000    \n",
      "Going to try keeping the sparsest 54.29% of the features to make it fit\n",
      "tile 3/2/3 size is 533128 with detail 12, >500000    \n",
      "Going to try keeping the sparsest 45.83% of the features to make it fit\n",
      "tile 4/4/6 size is 846970 with detail 12, >500000    \n",
      "Going to try keeping the sparsest 53.13% of the features to make it fit\n",
      "tile 4/4/6 size is 655847 with detail 12, >500000    \n",
      "Going to try keeping the sparsest 36.45% of the features to make it fit\n",
      "tile 4/4/6 size is 544355 with detail 12, >500000    \n",
      "Going to try keeping the sparsest 30.14% of the features to make it fit\n",
      "tile 5/8/12 size is 634609 with detail 12, >500000    \n",
      "Going to try keeping the sparsest 70.91% of the features to make it fit\n",
      "tile 5/8/12 size is 551005 with detail 12, >500000    \n",
      "Going to try keeping the sparsest 57.91% of the features to make it fit\n",
      "tile 5/8/12 size is 505348 with detail 12, >500000    \n",
      "Going to try keeping the sparsest 51.57% of the features to make it fit\n",
      "\n"
     ]
    }
   ],
   "source": [
    "!tippecanoe -zg -o \"./data/analysis/hard-to-count-tracts.mbtiles\" \\\n",
    "    --coalesce-densest-as-needed \\\n",
    "    --extend-zooms-if-still-dropping \\\n",
    "    --force \\\n",
    "    \"data/analysis/hard-to-count-tracts.geojson\""
   ]
  }
 ],
 "metadata": {
  "kernelspec": {
   "display_name": "Python 3",
   "language": "python",
   "name": "python3"
  },
  "language_info": {
   "codemirror_mode": {
    "name": "ipython",
    "version": 3
   },
   "file_extension": ".py",
   "mimetype": "text/x-python",
   "name": "python",
   "nbconvert_exporter": "python",
   "pygments_lexer": "ipython3",
   "version": "3.6.7"
  }
 },
 "nbformat": 4,
 "nbformat_minor": 2
}
