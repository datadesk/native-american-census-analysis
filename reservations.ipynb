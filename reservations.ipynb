{
 "cells": [
  {
   "cell_type": "code",
   "execution_count": 4,
   "metadata": {},
   "outputs": [],
   "source": [
    "import pandas as pd\n",
    "import geopandas as gpd"
   ]
  },
  {
   "cell_type": "markdown",
   "metadata": {},
   "source": [
    "How many Native Americans live in the United States?"
   ]
  },
  {
   "cell_type": "code",
   "execution_count": 5,
   "metadata": {},
   "outputs": [],
   "source": [
    "nation = pd.read_csv(\n",
    "    \"https://raw.githubusercontent.com/datadesk/census-data-downloader/master/data/processed/acs5_2017_aianaloneorincombo_nationwide.csv\",\n",
    "    dtype={\"geoid\": str}\n",
    ")"
   ]
  },
  {
   "cell_type": "code",
   "execution_count": 6,
   "metadata": {},
   "outputs": [
    {
     "data": {
      "text/html": [
       "<div>\n",
       "<style scoped>\n",
       "    .dataframe tbody tr th:only-of-type {\n",
       "        vertical-align: middle;\n",
       "    }\n",
       "\n",
       "    .dataframe tbody tr th {\n",
       "        vertical-align: top;\n",
       "    }\n",
       "\n",
       "    .dataframe thead th {\n",
       "        text-align: right;\n",
       "    }\n",
       "</style>\n",
       "<table border=\"1\" class=\"dataframe\">\n",
       "  <thead>\n",
       "    <tr style=\"text-align: right;\">\n",
       "      <th></th>\n",
       "      <th>geoid</th>\n",
       "      <th>name</th>\n",
       "      <th>universe</th>\n",
       "      <th>us</th>\n",
       "    </tr>\n",
       "  </thead>\n",
       "  <tbody>\n",
       "    <tr>\n",
       "      <th>0</th>\n",
       "      <td>1</td>\n",
       "      <td>United States</td>\n",
       "      <td>5487131.0</td>\n",
       "      <td>1</td>\n",
       "    </tr>\n",
       "  </tbody>\n",
       "</table>\n",
       "</div>"
      ],
      "text/plain": [
       "  geoid           name   universe  us\n",
       "0     1  United States  5487131.0   1"
      ]
     },
     "execution_count": 6,
     "metadata": {},
     "output_type": "execute_result"
    }
   ],
   "source": [
    "nation"
   ]
  },
  {
   "cell_type": "markdown",
   "metadata": {},
   "source": [
    "How many Native Americans live on a reservation?"
   ]
  },
  {
   "cell_type": "code",
   "execution_count": 7,
   "metadata": {},
   "outputs": [],
   "source": [
    "df = pd.read_csv(\n",
    "    \"https://raw.githubusercontent.com/datadesk/census-data-downloader/master/data/processed/acs5_2017_aianaloneorincombo_aiannhhomeland.csv\",\n",
    "    dtype={\"geoid\": str}\n",
    ")"
   ]
  },
  {
   "cell_type": "code",
   "execution_count": 8,
   "metadata": {},
   "outputs": [
    {
     "data": {
      "text/html": [
       "<div>\n",
       "<style scoped>\n",
       "    .dataframe tbody tr th:only-of-type {\n",
       "        vertical-align: middle;\n",
       "    }\n",
       "\n",
       "    .dataframe tbody tr th {\n",
       "        vertical-align: top;\n",
       "    }\n",
       "\n",
       "    .dataframe thead th {\n",
       "        text-align: right;\n",
       "    }\n",
       "</style>\n",
       "<table border=\"1\" class=\"dataframe\">\n",
       "  <thead>\n",
       "    <tr style=\"text-align: right;\">\n",
       "      <th></th>\n",
       "      <th>geoid</th>\n",
       "      <th>name</th>\n",
       "      <th>universe</th>\n",
       "      <th>american indian area/alaska native area/hawaiian home land</th>\n",
       "    </tr>\n",
       "  </thead>\n",
       "  <tbody>\n",
       "    <tr>\n",
       "      <th>0</th>\n",
       "      <td>0125</td>\n",
       "      <td>Augustine Reservation, CA</td>\n",
       "      <td>0.0</td>\n",
       "      <td>125</td>\n",
       "    </tr>\n",
       "    <tr>\n",
       "      <th>1</th>\n",
       "      <td>0155</td>\n",
       "      <td>Barona Reservation, CA</td>\n",
       "      <td>557.0</td>\n",
       "      <td>155</td>\n",
       "    </tr>\n",
       "    <tr>\n",
       "      <th>2</th>\n",
       "      <td>0185</td>\n",
       "      <td>Benton Paiute Reservation and Off-Reservation ...</td>\n",
       "      <td>110.0</td>\n",
       "      <td>185</td>\n",
       "    </tr>\n",
       "    <tr>\n",
       "      <th>3</th>\n",
       "      <td>0120</td>\n",
       "      <td>Auburn Rancheria and Off-Reservation Trust Lan...</td>\n",
       "      <td>0.0</td>\n",
       "      <td>120</td>\n",
       "    </tr>\n",
       "    <tr>\n",
       "      <th>4</th>\n",
       "      <td>0115</td>\n",
       "      <td>Aroostook Band of Micmac Trust Land, ME</td>\n",
       "      <td>184.0</td>\n",
       "      <td>115</td>\n",
       "    </tr>\n",
       "  </tbody>\n",
       "</table>\n",
       "</div>"
      ],
      "text/plain": [
       "  geoid                                               name  universe  \\\n",
       "0  0125                          Augustine Reservation, CA       0.0   \n",
       "1  0155                             Barona Reservation, CA     557.0   \n",
       "2  0185  Benton Paiute Reservation and Off-Reservation ...     110.0   \n",
       "3  0120  Auburn Rancheria and Off-Reservation Trust Lan...       0.0   \n",
       "4  0115            Aroostook Band of Micmac Trust Land, ME     184.0   \n",
       "\n",
       "   american indian area/alaska native area/hawaiian home land  \n",
       "0                                                125           \n",
       "1                                                155           \n",
       "2                                                185           \n",
       "3                                                120           \n",
       "4                                                115           "
      ]
     },
     "execution_count": 8,
     "metadata": {},
     "output_type": "execute_result"
    }
   ],
   "source": [
    "df.head()"
   ]
  },
  {
   "cell_type": "code",
   "execution_count": 9,
   "metadata": {},
   "outputs": [],
   "source": [
    "def get_geotype(geoid):\n",
    "    val = int(geoid)\n",
    "    if val < 5000:\n",
    "        return 'Federal reservation or trust land'\n",
    "    elif val < 5500:\n",
    "        return 'Hawaiian home land'\n",
    "    elif val < 6000:\n",
    "        return 'Oklahoma tribal statistical area'\n",
    "    elif val < 8000:\n",
    "        return 'Alaska native village statistical area'\n",
    "    elif val < 9000:\n",
    "        return 'Tribal-designated statistical area'\n",
    "    elif val < 9500:\n",
    "        return 'State reservation'\n",
    "    elif val < 9999:\n",
    "        return 'State-designated tribal statistical area'"
   ]
  },
  {
   "cell_type": "code",
   "execution_count": 10,
   "metadata": {},
   "outputs": [],
   "source": [
    "df['geotype'] = df.geoid.apply(get_geotype)"
   ]
  },
  {
   "cell_type": "code",
   "execution_count": 11,
   "metadata": {},
   "outputs": [
    {
     "data": {
      "text/plain": [
       "Federal reservation or trust land           326\n",
       "Alaska native village statistical area      220\n",
       "Hawaiian home land                           75\n",
       "State-designated tribal statistical area     30\n",
       "Oklahoma tribal statistical area             29\n",
       "State reservation                            10\n",
       "Tribal-designated statistical area            4\n",
       "Name: geotype, dtype: int64"
      ]
     },
     "execution_count": 11,
     "metadata": {},
     "output_type": "execute_result"
    }
   ],
   "source": [
    "df.geotype.value_counts(dropna=False)"
   ]
  },
  {
   "cell_type": "code",
   "execution_count": 12,
   "metadata": {},
   "outputs": [],
   "source": [
    "trimmed = df[[\n",
    "    'geoid',\n",
    "    'geotype',\n",
    "    'name',\n",
    "    'universe',\n",
    "]]"
   ]
  },
  {
   "cell_type": "code",
   "execution_count": 13,
   "metadata": {},
   "outputs": [
    {
     "data": {
      "text/html": [
       "<div>\n",
       "<style scoped>\n",
       "    .dataframe tbody tr th:only-of-type {\n",
       "        vertical-align: middle;\n",
       "    }\n",
       "\n",
       "    .dataframe tbody tr th {\n",
       "        vertical-align: top;\n",
       "    }\n",
       "\n",
       "    .dataframe thead th {\n",
       "        text-align: right;\n",
       "    }\n",
       "</style>\n",
       "<table border=\"1\" class=\"dataframe\">\n",
       "  <thead>\n",
       "    <tr style=\"text-align: right;\">\n",
       "      <th></th>\n",
       "      <th>geoid</th>\n",
       "      <th>geotype</th>\n",
       "      <th>name</th>\n",
       "      <th>universe</th>\n",
       "    </tr>\n",
       "  </thead>\n",
       "  <tbody>\n",
       "    <tr>\n",
       "      <th>0</th>\n",
       "      <td>0125</td>\n",
       "      <td>Federal reservation or trust land</td>\n",
       "      <td>Augustine Reservation, CA</td>\n",
       "      <td>0.0</td>\n",
       "    </tr>\n",
       "    <tr>\n",
       "      <th>1</th>\n",
       "      <td>0155</td>\n",
       "      <td>Federal reservation or trust land</td>\n",
       "      <td>Barona Reservation, CA</td>\n",
       "      <td>557.0</td>\n",
       "    </tr>\n",
       "    <tr>\n",
       "      <th>2</th>\n",
       "      <td>0185</td>\n",
       "      <td>Federal reservation or trust land</td>\n",
       "      <td>Benton Paiute Reservation and Off-Reservation ...</td>\n",
       "      <td>110.0</td>\n",
       "    </tr>\n",
       "    <tr>\n",
       "      <th>3</th>\n",
       "      <td>0120</td>\n",
       "      <td>Federal reservation or trust land</td>\n",
       "      <td>Auburn Rancheria and Off-Reservation Trust Lan...</td>\n",
       "      <td>0.0</td>\n",
       "    </tr>\n",
       "    <tr>\n",
       "      <th>4</th>\n",
       "      <td>0115</td>\n",
       "      <td>Federal reservation or trust land</td>\n",
       "      <td>Aroostook Band of Micmac Trust Land, ME</td>\n",
       "      <td>184.0</td>\n",
       "    </tr>\n",
       "  </tbody>\n",
       "</table>\n",
       "</div>"
      ],
      "text/plain": [
       "  geoid                            geotype  \\\n",
       "0  0125  Federal reservation or trust land   \n",
       "1  0155  Federal reservation or trust land   \n",
       "2  0185  Federal reservation or trust land   \n",
       "3  0120  Federal reservation or trust land   \n",
       "4  0115  Federal reservation or trust land   \n",
       "\n",
       "                                                name  universe  \n",
       "0                          Augustine Reservation, CA       0.0  \n",
       "1                             Barona Reservation, CA     557.0  \n",
       "2  Benton Paiute Reservation and Off-Reservation ...     110.0  \n",
       "3  Auburn Rancheria and Off-Reservation Trust Lan...       0.0  \n",
       "4            Aroostook Band of Micmac Trust Land, ME     184.0  "
      ]
     },
     "execution_count": 13,
     "metadata": {},
     "output_type": "execute_result"
    }
   ],
   "source": [
    "trimmed.head()"
   ]
  },
  {
   "cell_type": "code",
   "execution_count": 15,
   "metadata": {},
   "outputs": [],
   "source": [
    "typetotals = trimmed.groupby(\"geotype\").agg({\n",
    "    \"geoid\": \"count\",\n",
    "    \"universe\": \"sum\"\n",
    "})"
   ]
  },
  {
   "cell_type": "code",
   "execution_count": 16,
   "metadata": {},
   "outputs": [
    {
     "data": {
      "text/html": [
       "<div>\n",
       "<style scoped>\n",
       "    .dataframe tbody tr th:only-of-type {\n",
       "        vertical-align: middle;\n",
       "    }\n",
       "\n",
       "    .dataframe tbody tr th {\n",
       "        vertical-align: top;\n",
       "    }\n",
       "\n",
       "    .dataframe thead th {\n",
       "        text-align: right;\n",
       "    }\n",
       "</style>\n",
       "<table border=\"1\" class=\"dataframe\">\n",
       "  <thead>\n",
       "    <tr style=\"text-align: right;\">\n",
       "      <th></th>\n",
       "      <th>geoid</th>\n",
       "      <th>universe</th>\n",
       "    </tr>\n",
       "    <tr>\n",
       "      <th>geotype</th>\n",
       "      <th></th>\n",
       "      <th></th>\n",
       "    </tr>\n",
       "  </thead>\n",
       "  <tbody>\n",
       "    <tr>\n",
       "      <th>Alaska native village statistical area</th>\n",
       "      <td>220</td>\n",
       "      <td>82749.0</td>\n",
       "    </tr>\n",
       "    <tr>\n",
       "      <th>Federal reservation or trust land</th>\n",
       "      <td>326</td>\n",
       "      <td>587200.0</td>\n",
       "    </tr>\n",
       "    <tr>\n",
       "      <th>Hawaiian home land</th>\n",
       "      <td>75</td>\n",
       "      <td>588.0</td>\n",
       "    </tr>\n",
       "    <tr>\n",
       "      <th>Oklahoma tribal statistical area</th>\n",
       "      <td>29</td>\n",
       "      <td>420377.0</td>\n",
       "    </tr>\n",
       "    <tr>\n",
       "      <th>State reservation</th>\n",
       "      <td>10</td>\n",
       "      <td>736.0</td>\n",
       "    </tr>\n",
       "    <tr>\n",
       "      <th>State-designated tribal statistical area</th>\n",
       "      <td>30</td>\n",
       "      <td>102291.0</td>\n",
       "    </tr>\n",
       "    <tr>\n",
       "      <th>Tribal-designated statistical area</th>\n",
       "      <td>4</td>\n",
       "      <td>898.0</td>\n",
       "    </tr>\n",
       "  </tbody>\n",
       "</table>\n",
       "</div>"
      ],
      "text/plain": [
       "                                          geoid  universe\n",
       "geotype                                                  \n",
       "Alaska native village statistical area      220   82749.0\n",
       "Federal reservation or trust land           326  587200.0\n",
       "Hawaiian home land                           75     588.0\n",
       "Oklahoma tribal statistical area             29  420377.0\n",
       "State reservation                            10     736.0\n",
       "State-designated tribal statistical area     30  102291.0\n",
       "Tribal-designated statistical area            4     898.0"
      ]
     },
     "execution_count": 16,
     "metadata": {},
     "output_type": "execute_result"
    }
   ],
   "source": [
    "typetotals"
   ]
  },
  {
   "cell_type": "markdown",
   "metadata": {},
   "source": [
    "If 13.8% of the reservation population was missed in 2010, what does that pencil out to?"
   ]
  },
  {
   "cell_type": "code",
   "execution_count": 17,
   "metadata": {},
   "outputs": [
    {
     "data": {
      "text/plain": [
       "78798.0"
      ]
     },
     "execution_count": 17,
     "metadata": {},
     "output_type": "execute_result"
    }
   ],
   "source": [
    "571000 * 0.138"
   ]
  },
  {
   "cell_type": "markdown",
   "metadata": {},
   "source": [
    "What are the biggest reservations?"
   ]
  },
  {
   "cell_type": "code",
   "execution_count": 18,
   "metadata": {},
   "outputs": [],
   "source": [
    "reservations = trimmed[trimmed.geotype == 'Federal reservation or trust land']"
   ]
  },
  {
   "cell_type": "code",
   "execution_count": 22,
   "metadata": {},
   "outputs": [
    {
     "data": {
      "text/html": [
       "<div>\n",
       "<style scoped>\n",
       "    .dataframe tbody tr th:only-of-type {\n",
       "        vertical-align: middle;\n",
       "    }\n",
       "\n",
       "    .dataframe tbody tr th {\n",
       "        vertical-align: top;\n",
       "    }\n",
       "\n",
       "    .dataframe thead th {\n",
       "        text-align: right;\n",
       "    }\n",
       "</style>\n",
       "<table border=\"1\" class=\"dataframe\">\n",
       "  <thead>\n",
       "    <tr style=\"text-align: right;\">\n",
       "      <th></th>\n",
       "      <th>geoid</th>\n",
       "      <th>geotype</th>\n",
       "      <th>name</th>\n",
       "      <th>universe</th>\n",
       "    </tr>\n",
       "  </thead>\n",
       "  <tbody>\n",
       "    <tr>\n",
       "      <th>175</th>\n",
       "      <td>2430</td>\n",
       "      <td>Federal reservation or trust land</td>\n",
       "      <td>Navajo Nation Reservation and Off-Reservation ...</td>\n",
       "      <td>168725.0</td>\n",
       "    </tr>\n",
       "    <tr>\n",
       "      <th>204</th>\n",
       "      <td>2810</td>\n",
       "      <td>Federal reservation or trust land</td>\n",
       "      <td>Pine Ridge Reservation, SD--NE</td>\n",
       "      <td>17447.0</td>\n",
       "    </tr>\n",
       "    <tr>\n",
       "      <th>81</th>\n",
       "      <td>1140</td>\n",
       "      <td>Federal reservation or trust land</td>\n",
       "      <td>Fort Apache Reservation, AZ</td>\n",
       "      <td>14669.0</td>\n",
       "    </tr>\n",
       "    <tr>\n",
       "      <th>90</th>\n",
       "      <td>1310</td>\n",
       "      <td>Federal reservation or trust land</td>\n",
       "      <td>Gila River Indian Reservation, AZ</td>\n",
       "      <td>10664.0</td>\n",
       "    </tr>\n",
       "    <tr>\n",
       "      <th>220</th>\n",
       "      <td>3355</td>\n",
       "      <td>Federal reservation or trust land</td>\n",
       "      <td>San Carlos Reservation, AZ</td>\n",
       "      <td>10275.0</td>\n",
       "    </tr>\n",
       "    <tr>\n",
       "      <th>230</th>\n",
       "      <td>3235</td>\n",
       "      <td>Federal reservation or trust land</td>\n",
       "      <td>Rosebud Indian Reservation and Off-Reservation...</td>\n",
       "      <td>10220.0</td>\n",
       "    </tr>\n",
       "    <tr>\n",
       "      <th>172</th>\n",
       "      <td>2595</td>\n",
       "      <td>Federal reservation or trust land</td>\n",
       "      <td>Osage Reservation, OK</td>\n",
       "      <td>10169.0</td>\n",
       "    </tr>\n",
       "    <tr>\n",
       "      <th>63</th>\n",
       "      <td>1110</td>\n",
       "      <td>Federal reservation or trust land</td>\n",
       "      <td>Flathead Reservation, MT</td>\n",
       "      <td>9596.0</td>\n",
       "    </tr>\n",
       "    <tr>\n",
       "      <th>287</th>\n",
       "      <td>4200</td>\n",
       "      <td>Federal reservation or trust land</td>\n",
       "      <td>Tohono O'odham Nation Reservation and Off-Rese...</td>\n",
       "      <td>9464.0</td>\n",
       "    </tr>\n",
       "    <tr>\n",
       "      <th>311</th>\n",
       "      <td>4785</td>\n",
       "      <td>Federal reservation or trust land</td>\n",
       "      <td>Zuni Reservation and Off-Reservation Trust Lan...</td>\n",
       "      <td>9169.0</td>\n",
       "    </tr>\n",
       "  </tbody>\n",
       "</table>\n",
       "</div>"
      ],
      "text/plain": [
       "    geoid                            geotype  \\\n",
       "175  2430  Federal reservation or trust land   \n",
       "204  2810  Federal reservation or trust land   \n",
       "81   1140  Federal reservation or trust land   \n",
       "90   1310  Federal reservation or trust land   \n",
       "220  3355  Federal reservation or trust land   \n",
       "230  3235  Federal reservation or trust land   \n",
       "172  2595  Federal reservation or trust land   \n",
       "63   1110  Federal reservation or trust land   \n",
       "287  4200  Federal reservation or trust land   \n",
       "311  4785  Federal reservation or trust land   \n",
       "\n",
       "                                                  name  universe  \n",
       "175  Navajo Nation Reservation and Off-Reservation ...  168725.0  \n",
       "204                     Pine Ridge Reservation, SD--NE   17447.0  \n",
       "81                         Fort Apache Reservation, AZ   14669.0  \n",
       "90                   Gila River Indian Reservation, AZ   10664.0  \n",
       "220                         San Carlos Reservation, AZ   10275.0  \n",
       "230  Rosebud Indian Reservation and Off-Reservation...   10220.0  \n",
       "172                              Osage Reservation, OK   10169.0  \n",
       "63                            Flathead Reservation, MT    9596.0  \n",
       "287  Tohono O'odham Nation Reservation and Off-Rese...    9464.0  \n",
       "311  Zuni Reservation and Off-Reservation Trust Lan...    9169.0  "
      ]
     },
     "execution_count": 22,
     "metadata": {},
     "output_type": "execute_result"
    }
   ],
   "source": [
    "reservations.sort_values(\"universe\", ascending=False).head(10)"
   ]
  },
  {
   "cell_type": "code",
   "execution_count": 105,
   "metadata": {},
   "outputs": [],
   "source": [
    "gdf = gpd.read_file(\"./data/tiger/tl_2018_us_aiannh/tl_2018_us_aiannh.shp\")"
   ]
  },
  {
   "cell_type": "code",
   "execution_count": 106,
   "metadata": {},
   "outputs": [],
   "source": [
    "deduped_gdf = gdf.dissolve(by='AIANNHCE').reset_index()"
   ]
  },
  {
   "cell_type": "code",
   "execution_count": 109,
   "metadata": {},
   "outputs": [],
   "source": [
    "trimmed_gdf = deduped_gdf[[\n",
    "    'AIANNHCE',\n",
    "    'geometry'\n",
    "]].rename(columns={\n",
    "    \"AIANNHCE\": \"geoid\"\n",
    "})"
   ]
  },
  {
   "cell_type": "code",
   "execution_count": 110,
   "metadata": {},
   "outputs": [],
   "source": [
    "merged_gdf = trimmed_gdf.merge(\n",
    "    reservations,\n",
    "    on=\"geoid\",\n",
    "    how=\"inner\"\n",
    ")"
   ]
  },
  {
   "cell_type": "code",
   "execution_count": 111,
   "metadata": {},
   "outputs": [],
   "source": [
    "assert len(merged_gdf) == len(reservations)"
   ]
  },
  {
   "cell_type": "code",
   "execution_count": 112,
   "metadata": {},
   "outputs": [],
   "source": [
    "merged_gdf.to_crs(epsg=4326).to_file(\"./data/analysis/reservations-polygons.geojson\", driver=\"GeoJSON\")"
   ]
  },
  {
   "cell_type": "code",
   "execution_count": 113,
   "metadata": {},
   "outputs": [],
   "source": [
    "merged_gdf['geometry'] = merged_gdf.geometry.centroid"
   ]
  },
  {
   "cell_type": "code",
   "execution_count": 114,
   "metadata": {},
   "outputs": [],
   "source": [
    "merged_gdf.to_crs(epsg=4326).to_file(\"./data/analysis/reservations-points.geojson\", driver=\"GeoJSON\")"
   ]
  }
 ],
 "metadata": {
  "kernelspec": {
   "display_name": "Python 3",
   "language": "python",
   "name": "python3"
  },
  "language_info": {
   "codemirror_mode": {
    "name": "ipython",
    "version": 3
   },
   "file_extension": ".py",
   "mimetype": "text/x-python",
   "name": "python",
   "nbconvert_exporter": "python",
   "pygments_lexer": "ipython3",
   "version": "3.6.7"
  }
 },
 "nbformat": 4,
 "nbformat_minor": 2
}
