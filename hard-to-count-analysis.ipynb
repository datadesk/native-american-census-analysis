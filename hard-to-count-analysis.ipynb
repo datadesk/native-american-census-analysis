{
 "cells": [
  {
   "cell_type": "code",
   "execution_count": 1,
   "metadata": {},
   "outputs": [],
   "source": [
    "import pandas as pd\n",
    "import geopandas as gpd"
   ]
  },
  {
   "cell_type": "code",
   "execution_count": 2,
   "metadata": {},
   "outputs": [],
   "source": [
    "tracts = gpd.read_file(\"data/analysis/hard-to-count-tracts.geojson\")"
   ]
  },
  {
   "cell_type": "code",
   "execution_count": 3,
   "metadata": {},
   "outputs": [
    {
     "data": {
      "text/html": [
       "<div>\n",
       "<style scoped>\n",
       "    .dataframe tbody tr th:only-of-type {\n",
       "        vertical-align: middle;\n",
       "    }\n",
       "\n",
       "    .dataframe tbody tr th {\n",
       "        vertical-align: top;\n",
       "    }\n",
       "\n",
       "    .dataframe thead th {\n",
       "        text-align: right;\n",
       "    }\n",
       "</style>\n",
       "<table border=\"1\" class=\"dataframe\">\n",
       "  <thead>\n",
       "    <tr style=\"text-align: right;\">\n",
       "      <th></th>\n",
       "      <th>geoid</th>\n",
       "      <th>state</th>\n",
       "      <th>county</th>\n",
       "      <th>pop</th>\n",
       "      <th>mrr</th>\n",
       "      <th>mrr_htc</th>\n",
       "      <th>ue</th>\n",
       "      <th>htc</th>\n",
       "      <th>geometry</th>\n",
       "    </tr>\n",
       "  </thead>\n",
       "  <tbody>\n",
       "    <tr>\n",
       "      <th>0</th>\n",
       "      <td>01005950300</td>\n",
       "      <td>Alabama</td>\n",
       "      <td>Barbour County</td>\n",
       "      <td>1813</td>\n",
       "      <td>77.9</td>\n",
       "      <td>0</td>\n",
       "      <td>0</td>\n",
       "      <td>0</td>\n",
       "      <td>POLYGON ((-85.52744143500958 31.86650898512998...</td>\n",
       "    </tr>\n",
       "    <tr>\n",
       "      <th>1</th>\n",
       "      <td>01005950900</td>\n",
       "      <td>Alabama</td>\n",
       "      <td>Barbour County</td>\n",
       "      <td>3888</td>\n",
       "      <td>74.6</td>\n",
       "      <td>0</td>\n",
       "      <td>0</td>\n",
       "      <td>0</td>\n",
       "      <td>POLYGON ((-85.16412632985951 31.83060098962552...</td>\n",
       "    </tr>\n",
       "    <tr>\n",
       "      <th>2</th>\n",
       "      <td>01005950800</td>\n",
       "      <td>Alabama</td>\n",
       "      <td>Barbour County</td>\n",
       "      <td>2157</td>\n",
       "      <td>83.5</td>\n",
       "      <td>0</td>\n",
       "      <td>0</td>\n",
       "      <td>0</td>\n",
       "      <td>POLYGON ((-85.14872232914963 31.90934100751823...</td>\n",
       "    </tr>\n",
       "    <tr>\n",
       "      <th>3</th>\n",
       "      <td>01005950700</td>\n",
       "      <td>Alabama</td>\n",
       "      <td>Barbour County</td>\n",
       "      <td>1775</td>\n",
       "      <td>79.6</td>\n",
       "      <td>0</td>\n",
       "      <td>0</td>\n",
       "      <td>0</td>\n",
       "      <td>POLYGON ((-85.14578832747586 31.89149700368442...</td>\n",
       "    </tr>\n",
       "    <tr>\n",
       "      <th>4</th>\n",
       "      <td>01005950600</td>\n",
       "      <td>Alabama</td>\n",
       "      <td>Barbour County</td>\n",
       "      <td>2120</td>\n",
       "      <td>79.4</td>\n",
       "      <td>0</td>\n",
       "      <td>0</td>\n",
       "      <td>0</td>\n",
       "      <td>POLYGON ((-85.14572732739356 31.8901120033811,...</td>\n",
       "    </tr>\n",
       "  </tbody>\n",
       "</table>\n",
       "</div>"
      ],
      "text/plain": [
       "         geoid    state          county   pop   mrr  mrr_htc  ue  htc  \\\n",
       "0  01005950300  Alabama  Barbour County  1813  77.9        0   0    0   \n",
       "1  01005950900  Alabama  Barbour County  3888  74.6        0   0    0   \n",
       "2  01005950800  Alabama  Barbour County  2157  83.5        0   0    0   \n",
       "3  01005950700  Alabama  Barbour County  1775  79.6        0   0    0   \n",
       "4  01005950600  Alabama  Barbour County  2120  79.4        0   0    0   \n",
       "\n",
       "                                            geometry  \n",
       "0  POLYGON ((-85.52744143500958 31.86650898512998...  \n",
       "1  POLYGON ((-85.16412632985951 31.83060098962552...  \n",
       "2  POLYGON ((-85.14872232914963 31.90934100751823...  \n",
       "3  POLYGON ((-85.14578832747586 31.89149700368442...  \n",
       "4  POLYGON ((-85.14572732739356 31.8901120033811,...  "
      ]
     },
     "execution_count": 3,
     "metadata": {},
     "output_type": "execute_result"
    }
   ],
   "source": [
    "tracts.head()"
   ]
  },
  {
   "cell_type": "code",
   "execution_count": 4,
   "metadata": {},
   "outputs": [
    {
     "data": {
      "text/plain": [
       "72845"
      ]
     },
     "execution_count": 4,
     "metadata": {},
     "output_type": "execute_result"
    }
   ],
   "source": [
    "len(tracts)"
   ]
  },
  {
   "cell_type": "code",
   "execution_count": 5,
   "metadata": {},
   "outputs": [],
   "source": [
    "htc = tracts[tracts.htc == 1]"
   ]
  },
  {
   "cell_type": "code",
   "execution_count": 6,
   "metadata": {},
   "outputs": [
    {
     "data": {
      "text/plain": [
       "14793"
      ]
     },
     "execution_count": 6,
     "metadata": {},
     "output_type": "execute_result"
    }
   ],
   "source": [
    "len(htc)"
   ]
  },
  {
   "cell_type": "code",
   "execution_count": 73,
   "metadata": {},
   "outputs": [],
   "source": [
    "htc.to_file(\"./data/analysis/htc-tracts.shp\")"
   ]
  },
  {
   "cell_type": "code",
   "execution_count": 7,
   "metadata": {},
   "outputs": [],
   "source": [
    "tribal_lands = gpd.read_file(\"data/tiger/tl_2018_us_aiannh/tl_2018_us_aiannh.shp\")"
   ]
  },
  {
   "cell_type": "code",
   "execution_count": 8,
   "metadata": {},
   "outputs": [],
   "source": [
    "trimmed_tribal = tribal_lands[['AIANNHCE', 'NAMELSAD', 'geometry']]"
   ]
  },
  {
   "cell_type": "code",
   "execution_count": 9,
   "metadata": {},
   "outputs": [],
   "source": [
    "prepped_tribal = trimmed_tribal.rename(columns={\n",
    "    \"AIANNHCE\": \"geoid_tribal\",\n",
    "    \"NAMELSAD\": \"name_tribal\",\n",
    "})"
   ]
  },
  {
   "cell_type": "code",
   "execution_count": 10,
   "metadata": {},
   "outputs": [
    {
     "data": {
      "text/html": [
       "<div>\n",
       "<style scoped>\n",
       "    .dataframe tbody tr th:only-of-type {\n",
       "        vertical-align: middle;\n",
       "    }\n",
       "\n",
       "    .dataframe tbody tr th {\n",
       "        vertical-align: top;\n",
       "    }\n",
       "\n",
       "    .dataframe thead th {\n",
       "        text-align: right;\n",
       "    }\n",
       "</style>\n",
       "<table border=\"1\" class=\"dataframe\">\n",
       "  <thead>\n",
       "    <tr style=\"text-align: right;\">\n",
       "      <th></th>\n",
       "      <th>geoid_tribal</th>\n",
       "      <th>name_tribal</th>\n",
       "      <th>geometry</th>\n",
       "    </tr>\n",
       "  </thead>\n",
       "  <tbody>\n",
       "    <tr>\n",
       "      <th>0</th>\n",
       "      <td>2320</td>\n",
       "      <td>Mohegan Reservation</td>\n",
       "      <td>(POLYGON ((-72.089125 41.480395, -72.089004 41...</td>\n",
       "    </tr>\n",
       "    <tr>\n",
       "      <th>1</th>\n",
       "      <td>9100</td>\n",
       "      <td>Golden Hill Paugussett (state) Reservation</td>\n",
       "      <td>(POLYGON ((-72.26917299999999 41.554725, -72.2...</td>\n",
       "    </tr>\n",
       "    <tr>\n",
       "      <th>2</th>\n",
       "      <td>4110</td>\n",
       "      <td>Table Mountain Rancheria</td>\n",
       "      <td>POLYGON ((-119.640915 36.984246, -119.640807 3...</td>\n",
       "    </tr>\n",
       "    <tr>\n",
       "      <th>3</th>\n",
       "      <td>1380</td>\n",
       "      <td>Greenville Rancheria</td>\n",
       "      <td>POLYGON ((-120.897365 40.150998, -120.897334 4...</td>\n",
       "    </tr>\n",
       "    <tr>\n",
       "      <th>4</th>\n",
       "      <td>1110</td>\n",
       "      <td>Flathead Reservation</td>\n",
       "      <td>POLYGON ((-114.851209 47.887207, -114.819894 4...</td>\n",
       "    </tr>\n",
       "  </tbody>\n",
       "</table>\n",
       "</div>"
      ],
      "text/plain": [
       "  geoid_tribal                                 name_tribal  \\\n",
       "0         2320                         Mohegan Reservation   \n",
       "1         9100  Golden Hill Paugussett (state) Reservation   \n",
       "2         4110                    Table Mountain Rancheria   \n",
       "3         1380                        Greenville Rancheria   \n",
       "4         1110                        Flathead Reservation   \n",
       "\n",
       "                                            geometry  \n",
       "0  (POLYGON ((-72.089125 41.480395, -72.089004 41...  \n",
       "1  (POLYGON ((-72.26917299999999 41.554725, -72.2...  \n",
       "2  POLYGON ((-119.640915 36.984246, -119.640807 3...  \n",
       "3  POLYGON ((-120.897365 40.150998, -120.897334 4...  \n",
       "4  POLYGON ((-114.851209 47.887207, -114.819894 4...  "
      ]
     },
     "execution_count": 10,
     "metadata": {},
     "output_type": "execute_result"
    }
   ],
   "source": [
    "prepped_tribal.head()"
   ]
  },
  {
   "cell_type": "code",
   "execution_count": 11,
   "metadata": {},
   "outputs": [],
   "source": [
    "def get_geotype(geoid):\n",
    "    val = int(geoid)\n",
    "    if val < 5000:\n",
    "        return 'Federal reservation or trust land'\n",
    "    elif val < 5500:\n",
    "        return 'Hawaiian home land'\n",
    "    elif val < 6000:\n",
    "        return 'Oklahoma tribal statistical area'\n",
    "    elif val < 8000:\n",
    "        return 'Alaska native village statistical area'\n",
    "    elif val < 9000:\n",
    "        return 'Tribal-designated statistical area'\n",
    "    elif val < 9500:\n",
    "        return 'State reservation'\n",
    "    elif val < 9999:\n",
    "        return 'State-designated tribal statistical area'"
   ]
  },
  {
   "cell_type": "code",
   "execution_count": 12,
   "metadata": {},
   "outputs": [],
   "source": [
    "prepped_tribal['geotype'] = prepped_tribal.geoid_tribal.apply(get_geotype)"
   ]
  },
  {
   "cell_type": "code",
   "execution_count": 13,
   "metadata": {},
   "outputs": [
    {
     "data": {
      "text/plain": [
       "Federal reservation or trust land           477\n",
       "Alaska native village statistical area      220\n",
       "Hawaiian home land                           75\n",
       "State-designated tribal statistical area     30\n",
       "Oklahoma tribal statistical area             29\n",
       "State reservation                            10\n",
       "Tribal-designated statistical area            4\n",
       "Name: geotype, dtype: int64"
      ]
     },
     "execution_count": 13,
     "metadata": {},
     "output_type": "execute_result"
    }
   ],
   "source": [
    "prepped_tribal.geotype.value_counts(dropna=False)"
   ]
  },
  {
   "cell_type": "code",
   "execution_count": 34,
   "metadata": {},
   "outputs": [
    {
     "data": {
      "text/html": [
       "<div>\n",
       "<style scoped>\n",
       "    .dataframe tbody tr th:only-of-type {\n",
       "        vertical-align: middle;\n",
       "    }\n",
       "\n",
       "    .dataframe tbody tr th {\n",
       "        vertical-align: top;\n",
       "    }\n",
       "\n",
       "    .dataframe thead th {\n",
       "        text-align: right;\n",
       "    }\n",
       "</style>\n",
       "<table border=\"1\" class=\"dataframe\">\n",
       "  <thead>\n",
       "    <tr style=\"text-align: right;\">\n",
       "      <th></th>\n",
       "      <th>geoid_tribal</th>\n",
       "      <th>name_tribal</th>\n",
       "      <th>geometry</th>\n",
       "      <th>geotype</th>\n",
       "      <th>area</th>\n",
       "    </tr>\n",
       "  </thead>\n",
       "  <tbody>\n",
       "    <tr>\n",
       "      <th>117</th>\n",
       "      <td>2430</td>\n",
       "      <td>Navajo Nation Reservation</td>\n",
       "      <td>(POLYGON ((-108.608106 35.587676, -108.606511 ...</td>\n",
       "      <td>Federal reservation or trust land</td>\n",
       "      <td>57664.349316</td>\n",
       "    </tr>\n",
       "    <tr>\n",
       "      <th>781</th>\n",
       "      <td>5590</td>\n",
       "      <td>Choctaw OTSA</td>\n",
       "      <td>POLYGON ((-96.514343 34.488516, -96.513891 34....</td>\n",
       "      <td>Oklahoma tribal statistical area</td>\n",
       "      <td>28195.941633</td>\n",
       "    </tr>\n",
       "    <tr>\n",
       "      <th>798</th>\n",
       "      <td>5560</td>\n",
       "      <td>Cheyenne-Arapaho OTSA</td>\n",
       "      <td>POLYGON ((-100.000419 35.204752, -100.000419 3...</td>\n",
       "      <td>Oklahoma tribal statistical area</td>\n",
       "      <td>21176.603213</td>\n",
       "    </tr>\n",
       "    <tr>\n",
       "      <th>780</th>\n",
       "      <td>5580</td>\n",
       "      <td>Chickasaw OTSA</td>\n",
       "      <td>POLYGON ((-98.00044299999999 35.334304, -98.00...</td>\n",
       "      <td>Oklahoma tribal statistical area</td>\n",
       "      <td>19317.319432</td>\n",
       "    </tr>\n",
       "    <tr>\n",
       "      <th>595</th>\n",
       "      <td>6785</td>\n",
       "      <td>Knik ANVSA</td>\n",
       "      <td>POLYGON ((-151.845385 62.288083, -151.843782 6...</td>\n",
       "      <td>Alaska native village statistical area</td>\n",
       "      <td>19076.818003</td>\n",
       "    </tr>\n",
       "    <tr>\n",
       "      <th>783</th>\n",
       "      <td>5550</td>\n",
       "      <td>Cherokee OTSA</td>\n",
       "      <td>POLYGON ((-96.001561 36.321552, -96.001561 36....</td>\n",
       "      <td>Oklahoma tribal statistical area</td>\n",
       "      <td>18034.587105</td>\n",
       "    </tr>\n",
       "    <tr>\n",
       "      <th>252</th>\n",
       "      <td>4390</td>\n",
       "      <td>Uintah and Ouray Reservation</td>\n",
       "      <td>POLYGON ((-111.312183 40.288136, -111.312031 4...</td>\n",
       "      <td>Federal reservation or trust land</td>\n",
       "      <td>17670.928264</td>\n",
       "    </tr>\n",
       "    <tr>\n",
       "      <th>789</th>\n",
       "      <td>5720</td>\n",
       "      <td>Kiowa-Comanche-Apache-Fort Sill Apache OTSA</td>\n",
       "      <td>POLYGON ((-100.000479 34.708601, -100.000397 3...</td>\n",
       "      <td>Oklahoma tribal statistical area</td>\n",
       "      <td>16650.893389</td>\n",
       "    </tr>\n",
       "    <tr>\n",
       "      <th>594</th>\n",
       "      <td>6290</td>\n",
       "      <td>Chickaloon ANVSA</td>\n",
       "      <td>POLYGON ((-149.47215 62.442173, -149.471613 62...</td>\n",
       "      <td>Alaska native village statistical area</td>\n",
       "      <td>15586.783360</td>\n",
       "    </tr>\n",
       "    <tr>\n",
       "      <th>788</th>\n",
       "      <td>5620</td>\n",
       "      <td>Creek OTSA</td>\n",
       "      <td>POLYGON ((-96.624883 35.464302, -96.624832 35....</td>\n",
       "      <td>Oklahoma tribal statistical area</td>\n",
       "      <td>12395.791897</td>\n",
       "    </tr>\n",
       "  </tbody>\n",
       "</table>\n",
       "</div>"
      ],
      "text/plain": [
       "    geoid_tribal                                  name_tribal  \\\n",
       "117         2430                    Navajo Nation Reservation   \n",
       "781         5590                                 Choctaw OTSA   \n",
       "798         5560                        Cheyenne-Arapaho OTSA   \n",
       "780         5580                               Chickasaw OTSA   \n",
       "595         6785                                   Knik ANVSA   \n",
       "783         5550                                Cherokee OTSA   \n",
       "252         4390                 Uintah and Ouray Reservation   \n",
       "789         5720  Kiowa-Comanche-Apache-Fort Sill Apache OTSA   \n",
       "594         6290                             Chickaloon ANVSA   \n",
       "788         5620                                   Creek OTSA   \n",
       "\n",
       "                                              geometry  \\\n",
       "117  (POLYGON ((-108.608106 35.587676, -108.606511 ...   \n",
       "781  POLYGON ((-96.514343 34.488516, -96.513891 34....   \n",
       "798  POLYGON ((-100.000419 35.204752, -100.000419 3...   \n",
       "780  POLYGON ((-98.00044299999999 35.334304, -98.00...   \n",
       "595  POLYGON ((-151.845385 62.288083, -151.843782 6...   \n",
       "783  POLYGON ((-96.001561 36.321552, -96.001561 36....   \n",
       "252  POLYGON ((-111.312183 40.288136, -111.312031 4...   \n",
       "789  POLYGON ((-100.000479 34.708601, -100.000397 3...   \n",
       "594  POLYGON ((-149.47215 62.442173, -149.471613 62...   \n",
       "788  POLYGON ((-96.624883 35.464302, -96.624832 35....   \n",
       "\n",
       "                                    geotype          area  \n",
       "117       Federal reservation or trust land  57664.349316  \n",
       "781        Oklahoma tribal statistical area  28195.941633  \n",
       "798        Oklahoma tribal statistical area  21176.603213  \n",
       "780        Oklahoma tribal statistical area  19317.319432  \n",
       "595  Alaska native village statistical area  19076.818003  \n",
       "783        Oklahoma tribal statistical area  18034.587105  \n",
       "252       Federal reservation or trust land  17670.928264  \n",
       "789        Oklahoma tribal statistical area  16650.893389  \n",
       "594  Alaska native village statistical area  15586.783360  \n",
       "788        Oklahoma tribal statistical area  12395.791897  "
      ]
     },
     "execution_count": 34,
     "metadata": {},
     "output_type": "execute_result"
    }
   ],
   "source": [
    "prepped_tribal.sort_values(\"area\", ascending=False).head(10)"
   ]
  },
  {
   "cell_type": "code",
   "execution_count": 31,
   "metadata": {},
   "outputs": [],
   "source": [
    "reservations = prepped_tribal[prepped_tribal.geotype == 'Federal reservation or trust land']"
   ]
  },
  {
   "cell_type": "code",
   "execution_count": 43,
   "metadata": {},
   "outputs": [],
   "source": [
    "reservations_deduped = reservations.dissolve(by='geoid_tribal').reset_index()"
   ]
  },
  {
   "cell_type": "code",
   "execution_count": 45,
   "metadata": {},
   "outputs": [],
   "source": [
    "reservations_deduped['area'] = reservations_deduped.to_crs({'proj':'cea'}).geometry.map(lambda p: p.area / 10**6)"
   ]
  },
  {
   "cell_type": "code",
   "execution_count": 32,
   "metadata": {},
   "outputs": [],
   "source": [
    "reservations_reprojected = reservations_deduped.to_crs({'init': 'epsg:4326'})"
   ]
  },
  {
   "cell_type": "code",
   "execution_count": 48,
   "metadata": {},
   "outputs": [],
   "source": [
    "intersection = gpd.overlay(reservations_reprojected, htc, how='intersection')"
   ]
  },
  {
   "cell_type": "code",
   "execution_count": 49,
   "metadata": {},
   "outputs": [
    {
     "data": {
      "text/html": [
       "<div>\n",
       "<style scoped>\n",
       "    .dataframe tbody tr th:only-of-type {\n",
       "        vertical-align: middle;\n",
       "    }\n",
       "\n",
       "    .dataframe tbody tr th {\n",
       "        vertical-align: top;\n",
       "    }\n",
       "\n",
       "    .dataframe thead th {\n",
       "        text-align: right;\n",
       "    }\n",
       "</style>\n",
       "<table border=\"1\" class=\"dataframe\">\n",
       "  <thead>\n",
       "    <tr style=\"text-align: right;\">\n",
       "      <th></th>\n",
       "      <th>geoid_tribal</th>\n",
       "      <th>name_tribal</th>\n",
       "      <th>geotype</th>\n",
       "      <th>area</th>\n",
       "      <th>geoid</th>\n",
       "      <th>state</th>\n",
       "      <th>county</th>\n",
       "      <th>pop</th>\n",
       "      <th>mrr</th>\n",
       "      <th>mrr_htc</th>\n",
       "      <th>ue</th>\n",
       "      <th>htc</th>\n",
       "      <th>geometry</th>\n",
       "    </tr>\n",
       "  </thead>\n",
       "  <tbody>\n",
       "    <tr>\n",
       "      <th>0</th>\n",
       "      <td>1110</td>\n",
       "      <td>Flathead Reservation</td>\n",
       "      <td>Federal reservation or trust land</td>\n",
       "      <td>5329.733273</td>\n",
       "      <td>30047940700</td>\n",
       "      <td>Montana</td>\n",
       "      <td>Lake County</td>\n",
       "      <td>2341</td>\n",
       "      <td>99999.0</td>\n",
       "      <td>0</td>\n",
       "      <td>1</td>\n",
       "      <td>1</td>\n",
       "      <td>POLYGON ((-113.8923431235792 47.30843603761106...</td>\n",
       "    </tr>\n",
       "    <tr>\n",
       "      <th>1</th>\n",
       "      <td>1110</td>\n",
       "      <td>Flathead Reservation</td>\n",
       "      <td>Federal reservation or trust land</td>\n",
       "      <td>5329.733273</td>\n",
       "      <td>30047940600</td>\n",
       "      <td>Montana</td>\n",
       "      <td>Lake County</td>\n",
       "      <td>4100</td>\n",
       "      <td>99999.0</td>\n",
       "      <td>0</td>\n",
       "      <td>1</td>\n",
       "      <td>1</td>\n",
       "      <td>POLYGON ((-113.8876667485412 47.36477716001926...</td>\n",
       "    </tr>\n",
       "    <tr>\n",
       "      <th>2</th>\n",
       "      <td>1110</td>\n",
       "      <td>Flathead Reservation</td>\n",
       "      <td>Federal reservation or trust land</td>\n",
       "      <td>5329.733273</td>\n",
       "      <td>30047940500</td>\n",
       "      <td>Montana</td>\n",
       "      <td>Lake County</td>\n",
       "      <td>5052</td>\n",
       "      <td>99999.0</td>\n",
       "      <td>0</td>\n",
       "      <td>1</td>\n",
       "      <td>1</td>\n",
       "      <td>POLYGON ((-113.9296866116276 47.53991224333398...</td>\n",
       "    </tr>\n",
       "    <tr>\n",
       "      <th>3</th>\n",
       "      <td>1110</td>\n",
       "      <td>Flathead Reservation</td>\n",
       "      <td>Federal reservation or trust land</td>\n",
       "      <td>5329.733273</td>\n",
       "      <td>30089940300</td>\n",
       "      <td>Montana</td>\n",
       "      <td>Sanders County</td>\n",
       "      <td>1879</td>\n",
       "      <td>99999.0</td>\n",
       "      <td>0</td>\n",
       "      <td>1</td>\n",
       "      <td>1</td>\n",
       "      <td>POLYGON ((-114.1873671952479 47.13766760917657...</td>\n",
       "    </tr>\n",
       "    <tr>\n",
       "      <th>4</th>\n",
       "      <td>1110</td>\n",
       "      <td>Flathead Reservation</td>\n",
       "      <td>Federal reservation or trust land</td>\n",
       "      <td>5329.733273</td>\n",
       "      <td>30047940400</td>\n",
       "      <td>Montana</td>\n",
       "      <td>Lake County</td>\n",
       "      <td>4262</td>\n",
       "      <td>99999.0</td>\n",
       "      <td>0</td>\n",
       "      <td>1</td>\n",
       "      <td>1</td>\n",
       "      <td>POLYGON ((-113.9601981977866 47.6050154723254,...</td>\n",
       "    </tr>\n",
       "  </tbody>\n",
       "</table>\n",
       "</div>"
      ],
      "text/plain": [
       "  geoid_tribal           name_tribal                            geotype  \\\n",
       "0         1110  Flathead Reservation  Federal reservation or trust land   \n",
       "1         1110  Flathead Reservation  Federal reservation or trust land   \n",
       "2         1110  Flathead Reservation  Federal reservation or trust land   \n",
       "3         1110  Flathead Reservation  Federal reservation or trust land   \n",
       "4         1110  Flathead Reservation  Federal reservation or trust land   \n",
       "\n",
       "          area        geoid    state          county   pop      mrr  mrr_htc  \\\n",
       "0  5329.733273  30047940700  Montana     Lake County  2341  99999.0        0   \n",
       "1  5329.733273  30047940600  Montana     Lake County  4100  99999.0        0   \n",
       "2  5329.733273  30047940500  Montana     Lake County  5052  99999.0        0   \n",
       "3  5329.733273  30089940300  Montana  Sanders County  1879  99999.0        0   \n",
       "4  5329.733273  30047940400  Montana     Lake County  4262  99999.0        0   \n",
       "\n",
       "   ue  htc                                           geometry  \n",
       "0   1    1  POLYGON ((-113.8923431235792 47.30843603761106...  \n",
       "1   1    1  POLYGON ((-113.8876667485412 47.36477716001926...  \n",
       "2   1    1  POLYGON ((-113.9296866116276 47.53991224333398...  \n",
       "3   1    1  POLYGON ((-114.1873671952479 47.13766760917657...  \n",
       "4   1    1  POLYGON ((-113.9601981977866 47.6050154723254,...  "
      ]
     },
     "execution_count": 49,
     "metadata": {},
     "output_type": "execute_result"
    }
   ],
   "source": [
    "intersection.head()"
   ]
  },
  {
   "cell_type": "code",
   "execution_count": 50,
   "metadata": {},
   "outputs": [
    {
     "data": {
      "text/plain": [
       "643"
      ]
     },
     "execution_count": 50,
     "metadata": {},
     "output_type": "execute_result"
    }
   ],
   "source": [
    "len(intersection)"
   ]
  },
  {
   "cell_type": "code",
   "execution_count": 51,
   "metadata": {},
   "outputs": [],
   "source": [
    "dissolved = intersection.dissolve(by='geoid_tribal')"
   ]
  },
  {
   "cell_type": "code",
   "execution_count": 53,
   "metadata": {},
   "outputs": [
    {
     "data": {
      "text/plain": [
       "168"
      ]
     },
     "execution_count": 53,
     "metadata": {},
     "output_type": "execute_result"
    }
   ],
   "source": [
    "len(dissolved)"
   ]
  },
  {
   "cell_type": "code",
   "execution_count": 54,
   "metadata": {},
   "outputs": [],
   "source": [
    "dissolved_trimmed = dissolved.reset_index()[[\n",
    "    'geoid_tribal',\n",
    "    'name_tribal',\n",
    "    'geometry'\n",
    "]]"
   ]
  },
  {
   "cell_type": "code",
   "execution_count": 55,
   "metadata": {},
   "outputs": [],
   "source": [
    "dissolved_prepped = dissolved_trimmed.rename(columns={\n",
    "    \"geoid_tribal\": \"geoid\",\n",
    "    \"name_tribal\": \"name\"\n",
    "})"
   ]
  },
  {
   "cell_type": "code",
   "execution_count": 56,
   "metadata": {},
   "outputs": [
    {
     "data": {
      "text/html": [
       "<div>\n",
       "<style scoped>\n",
       "    .dataframe tbody tr th:only-of-type {\n",
       "        vertical-align: middle;\n",
       "    }\n",
       "\n",
       "    .dataframe tbody tr th {\n",
       "        vertical-align: top;\n",
       "    }\n",
       "\n",
       "    .dataframe thead th {\n",
       "        text-align: right;\n",
       "    }\n",
       "</style>\n",
       "<table border=\"1\" class=\"dataframe\">\n",
       "  <thead>\n",
       "    <tr style=\"text-align: right;\">\n",
       "      <th></th>\n",
       "      <th>geoid</th>\n",
       "      <th>name</th>\n",
       "      <th>geometry</th>\n",
       "    </tr>\n",
       "  </thead>\n",
       "  <tbody>\n",
       "    <tr>\n",
       "      <th>0</th>\n",
       "      <td>0010</td>\n",
       "      <td>Acoma Pueblo</td>\n",
       "      <td>(POLYGON ((-107.777627 34.548139, -107.773395 ...</td>\n",
       "    </tr>\n",
       "    <tr>\n",
       "      <th>1</th>\n",
       "      <td>0020</td>\n",
       "      <td>Agua Caliente Indian Reservation</td>\n",
       "      <td>(POLYGON ((-116.5822638967478 33.6851276989495...</td>\n",
       "    </tr>\n",
       "    <tr>\n",
       "      <th>2</th>\n",
       "      <td>0080</td>\n",
       "      <td>Allegany Reservation</td>\n",
       "      <td>POLYGON ((-78.977519 41.999042, -78.977474 41....</td>\n",
       "    </tr>\n",
       "    <tr>\n",
       "      <th>3</th>\n",
       "      <td>0110</td>\n",
       "      <td>Annette Island Reserve</td>\n",
       "      <td>POLYGON ((-131.610929883141 54.9858807524663, ...</td>\n",
       "    </tr>\n",
       "    <tr>\n",
       "      <th>4</th>\n",
       "      <td>0125</td>\n",
       "      <td>Augustine Reservation</td>\n",
       "      <td>POLYGON ((-116.199282 33.656552, -116.197526 3...</td>\n",
       "    </tr>\n",
       "  </tbody>\n",
       "</table>\n",
       "</div>"
      ],
      "text/plain": [
       "  geoid                              name  \\\n",
       "0  0010                      Acoma Pueblo   \n",
       "1  0020  Agua Caliente Indian Reservation   \n",
       "2  0080              Allegany Reservation   \n",
       "3  0110            Annette Island Reserve   \n",
       "4  0125             Augustine Reservation   \n",
       "\n",
       "                                            geometry  \n",
       "0  (POLYGON ((-107.777627 34.548139, -107.773395 ...  \n",
       "1  (POLYGON ((-116.5822638967478 33.6851276989495...  \n",
       "2  POLYGON ((-78.977519 41.999042, -78.977474 41....  \n",
       "3  POLYGON ((-131.610929883141 54.9858807524663, ...  \n",
       "4  POLYGON ((-116.199282 33.656552, -116.197526 3...  "
      ]
     },
     "execution_count": 56,
     "metadata": {},
     "output_type": "execute_result"
    }
   ],
   "source": [
    "dissolved_prepped.head()"
   ]
  },
  {
   "cell_type": "code",
   "execution_count": 57,
   "metadata": {},
   "outputs": [],
   "source": [
    "dissolved_prepped['area'] = dissolved_prepped.to_crs({'proj':'cea'}).geometry.map(lambda p: p.area / 10**6)"
   ]
  },
  {
   "cell_type": "code",
   "execution_count": 58,
   "metadata": {},
   "outputs": [
    {
     "data": {
      "text/html": [
       "<div>\n",
       "<style scoped>\n",
       "    .dataframe tbody tr th:only-of-type {\n",
       "        vertical-align: middle;\n",
       "    }\n",
       "\n",
       "    .dataframe tbody tr th {\n",
       "        vertical-align: top;\n",
       "    }\n",
       "\n",
       "    .dataframe thead th {\n",
       "        text-align: right;\n",
       "    }\n",
       "</style>\n",
       "<table border=\"1\" class=\"dataframe\">\n",
       "  <thead>\n",
       "    <tr style=\"text-align: right;\">\n",
       "      <th></th>\n",
       "      <th>geoid</th>\n",
       "      <th>name</th>\n",
       "      <th>geometry</th>\n",
       "      <th>area</th>\n",
       "    </tr>\n",
       "  </thead>\n",
       "  <tbody>\n",
       "    <tr>\n",
       "      <th>0</th>\n",
       "      <td>0010</td>\n",
       "      <td>Acoma Pueblo</td>\n",
       "      <td>(POLYGON ((-107.777627 34.548139, -107.773395 ...</td>\n",
       "      <td>1542.872627</td>\n",
       "    </tr>\n",
       "    <tr>\n",
       "      <th>1</th>\n",
       "      <td>0020</td>\n",
       "      <td>Agua Caliente Indian Reservation</td>\n",
       "      <td>(POLYGON ((-116.5822638967478 33.6851276989495...</td>\n",
       "      <td>0.480693</td>\n",
       "    </tr>\n",
       "    <tr>\n",
       "      <th>2</th>\n",
       "      <td>0080</td>\n",
       "      <td>Allegany Reservation</td>\n",
       "      <td>POLYGON ((-78.977519 41.999042, -78.977474 41....</td>\n",
       "      <td>125.599965</td>\n",
       "    </tr>\n",
       "    <tr>\n",
       "      <th>3</th>\n",
       "      <td>0110</td>\n",
       "      <td>Annette Island Reserve</td>\n",
       "      <td>POLYGON ((-131.610929883141 54.9858807524663, ...</td>\n",
       "      <td>550.594448</td>\n",
       "    </tr>\n",
       "    <tr>\n",
       "      <th>4</th>\n",
       "      <td>0125</td>\n",
       "      <td>Augustine Reservation</td>\n",
       "      <td>POLYGON ((-116.199282 33.656552, -116.197526 3...</td>\n",
       "      <td>2.271942</td>\n",
       "    </tr>\n",
       "  </tbody>\n",
       "</table>\n",
       "</div>"
      ],
      "text/plain": [
       "  geoid                              name  \\\n",
       "0  0010                      Acoma Pueblo   \n",
       "1  0020  Agua Caliente Indian Reservation   \n",
       "2  0080              Allegany Reservation   \n",
       "3  0110            Annette Island Reserve   \n",
       "4  0125             Augustine Reservation   \n",
       "\n",
       "                                            geometry         area  \n",
       "0  (POLYGON ((-107.777627 34.548139, -107.773395 ...  1542.872627  \n",
       "1  (POLYGON ((-116.5822638967478 33.6851276989495...     0.480693  \n",
       "2  POLYGON ((-78.977519 41.999042, -78.977474 41....   125.599965  \n",
       "3  POLYGON ((-131.610929883141 54.9858807524663, ...   550.594448  \n",
       "4  POLYGON ((-116.199282 33.656552, -116.197526 3...     2.271942  "
      ]
     },
     "execution_count": 58,
     "metadata": {},
     "output_type": "execute_result"
    }
   ],
   "source": [
    "dissolved_prepped.head()"
   ]
  },
  {
   "cell_type": "code",
   "execution_count": 60,
   "metadata": {},
   "outputs": [],
   "source": [
    "dissolved_merged = dissolved_prepped.merge(\n",
    "    reservations_deduped.rename(columns={\"geoid_tribal\": \"geoid\"})[['geoid', 'area']],\n",
    "    on=\"geoid\",\n",
    "    suffixes=[\"_htc\", \"_total\"]\n",
    ")"
   ]
  },
  {
   "cell_type": "code",
   "execution_count": 61,
   "metadata": {},
   "outputs": [],
   "source": [
    "dissolved_merged['pct_htc'] = dissolved_merged.area_htc / dissolved_merged.area_total"
   ]
  },
  {
   "cell_type": "code",
   "execution_count": 64,
   "metadata": {},
   "outputs": [
    {
     "data": {
      "text/html": [
       "<div>\n",
       "<style scoped>\n",
       "    .dataframe tbody tr th:only-of-type {\n",
       "        vertical-align: middle;\n",
       "    }\n",
       "\n",
       "    .dataframe tbody tr th {\n",
       "        vertical-align: top;\n",
       "    }\n",
       "\n",
       "    .dataframe thead th {\n",
       "        text-align: right;\n",
       "    }\n",
       "</style>\n",
       "<table border=\"1\" class=\"dataframe\">\n",
       "  <thead>\n",
       "    <tr style=\"text-align: right;\">\n",
       "      <th></th>\n",
       "      <th>geoid</th>\n",
       "      <th>name</th>\n",
       "      <th>geometry</th>\n",
       "      <th>area_htc</th>\n",
       "      <th>area_total</th>\n",
       "      <th>pct_htc</th>\n",
       "    </tr>\n",
       "  </thead>\n",
       "  <tbody>\n",
       "    <tr>\n",
       "      <th>86</th>\n",
       "      <td>2430</td>\n",
       "      <td>Navajo Nation Reservation</td>\n",
       "      <td>(POLYGON ((-108.541557 35.034891, -108.54152 3...</td>\n",
       "      <td>62072.978786</td>\n",
       "      <td>62565.921391</td>\n",
       "      <td>0.992121</td>\n",
       "    </tr>\n",
       "    <tr>\n",
       "      <th>142</th>\n",
       "      <td>4200</td>\n",
       "      <td>Tohono O'odham Nation Reservation</td>\n",
       "      <td>(POLYGON ((-112.719808 32.967355, -112.719534 ...</td>\n",
       "      <td>11534.902203</td>\n",
       "      <td>11534.986075</td>\n",
       "      <td>0.999993</td>\n",
       "    </tr>\n",
       "    <tr>\n",
       "      <th>18</th>\n",
       "      <td>0605</td>\n",
       "      <td>Cheyenne River Reservation</td>\n",
       "      <td>POLYGON ((-101.8392525976512 44.52395100593207...</td>\n",
       "      <td>11424.555187</td>\n",
       "      <td>11445.301110</td>\n",
       "      <td>0.998187</td>\n",
       "    </tr>\n",
       "    <tr>\n",
       "      <th>137</th>\n",
       "      <td>3970</td>\n",
       "      <td>Standing Rock Reservation</td>\n",
       "      <td>POLYGON ((-101.4702072145578 45.47181753760831...</td>\n",
       "      <td>9486.074003</td>\n",
       "      <td>9486.191063</td>\n",
       "      <td>0.999988</td>\n",
       "    </tr>\n",
       "    <tr>\n",
       "      <th>28</th>\n",
       "      <td>0845</td>\n",
       "      <td>Crow Reservation</td>\n",
       "      <td>(POLYGON ((-107.013418 45.18194, -107.013418 4...</td>\n",
       "      <td>8327.919292</td>\n",
       "      <td>9343.671023</td>\n",
       "      <td>0.891290</td>\n",
       "    </tr>\n",
       "  </tbody>\n",
       "</table>\n",
       "</div>"
      ],
      "text/plain": [
       "    geoid                               name  \\\n",
       "86   2430          Navajo Nation Reservation   \n",
       "142  4200  Tohono O'odham Nation Reservation   \n",
       "18   0605         Cheyenne River Reservation   \n",
       "137  3970          Standing Rock Reservation   \n",
       "28   0845                   Crow Reservation   \n",
       "\n",
       "                                              geometry      area_htc  \\\n",
       "86   (POLYGON ((-108.541557 35.034891, -108.54152 3...  62072.978786   \n",
       "142  (POLYGON ((-112.719808 32.967355, -112.719534 ...  11534.902203   \n",
       "18   POLYGON ((-101.8392525976512 44.52395100593207...  11424.555187   \n",
       "137  POLYGON ((-101.4702072145578 45.47181753760831...   9486.074003   \n",
       "28   (POLYGON ((-107.013418 45.18194, -107.013418 4...   8327.919292   \n",
       "\n",
       "       area_total   pct_htc  \n",
       "86   62565.921391  0.992121  \n",
       "142  11534.986075  0.999993  \n",
       "18   11445.301110  0.998187  \n",
       "137   9486.191063  0.999988  \n",
       "28    9343.671023  0.891290  "
      ]
     },
     "execution_count": 64,
     "metadata": {},
     "output_type": "execute_result"
    }
   ],
   "source": [
    "dissolved_merged.sort_values(\"area_htc\", ascending=False).head(5)"
   ]
  },
  {
   "cell_type": "code",
   "execution_count": 65,
   "metadata": {},
   "outputs": [
    {
     "data": {
      "text/html": [
       "<div>\n",
       "<style scoped>\n",
       "    .dataframe tbody tr th:only-of-type {\n",
       "        vertical-align: middle;\n",
       "    }\n",
       "\n",
       "    .dataframe tbody tr th {\n",
       "        vertical-align: top;\n",
       "    }\n",
       "\n",
       "    .dataframe thead th {\n",
       "        text-align: right;\n",
       "    }\n",
       "</style>\n",
       "<table border=\"1\" class=\"dataframe\">\n",
       "  <thead>\n",
       "    <tr style=\"text-align: right;\">\n",
       "      <th></th>\n",
       "      <th>geoid</th>\n",
       "      <th>name</th>\n",
       "      <th>geometry</th>\n",
       "      <th>area_htc</th>\n",
       "      <th>area_total</th>\n",
       "      <th>pct_htc</th>\n",
       "    </tr>\n",
       "  </thead>\n",
       "  <tbody>\n",
       "    <tr>\n",
       "      <th>97</th>\n",
       "      <td>2715</td>\n",
       "      <td>Pauma and Yuima Reservation</td>\n",
       "      <td>(POLYGON ((-116.9321159667102 33.3464051059000...</td>\n",
       "      <td>0.007937</td>\n",
       "      <td>24.252290</td>\n",
       "      <td>3.272689e-04</td>\n",
       "    </tr>\n",
       "    <tr>\n",
       "      <th>66</th>\n",
       "      <td>1850</td>\n",
       "      <td>La Jolla Reservation</td>\n",
       "      <td>(POLYGON ((-116.8410570065867 33.2559419054459...</td>\n",
       "      <td>0.002918</td>\n",
       "      <td>34.957758</td>\n",
       "      <td>8.348507e-05</td>\n",
       "    </tr>\n",
       "    <tr>\n",
       "      <th>15</th>\n",
       "      <td>0495</td>\n",
       "      <td>Capitan Grande Reservation</td>\n",
       "      <td>POLYGON ((-116.6811140223018 32.88451265870786...</td>\n",
       "      <td>0.002156</td>\n",
       "      <td>64.430007</td>\n",
       "      <td>3.346085e-05</td>\n",
       "    </tr>\n",
       "    <tr>\n",
       "      <th>146</th>\n",
       "      <td>4315</td>\n",
       "      <td>Tunica-Biloxi Reservation</td>\n",
       "      <td>(POLYGON ((-92.0626268708872 31.10577978474263...</td>\n",
       "      <td>0.000030</td>\n",
       "      <td>3.149779</td>\n",
       "      <td>9.520608e-06</td>\n",
       "    </tr>\n",
       "    <tr>\n",
       "      <th>94</th>\n",
       "      <td>2635</td>\n",
       "      <td>Pala Reservation</td>\n",
       "      <td>POLYGON ((-117.000974922776 33.38656981010941,...</td>\n",
       "      <td>0.000006</td>\n",
       "      <td>52.706195</td>\n",
       "      <td>1.098324e-07</td>\n",
       "    </tr>\n",
       "  </tbody>\n",
       "</table>\n",
       "</div>"
      ],
      "text/plain": [
       "    geoid                         name  \\\n",
       "97   2715  Pauma and Yuima Reservation   \n",
       "66   1850         La Jolla Reservation   \n",
       "15   0495   Capitan Grande Reservation   \n",
       "146  4315    Tunica-Biloxi Reservation   \n",
       "94   2635             Pala Reservation   \n",
       "\n",
       "                                              geometry  area_htc  area_total  \\\n",
       "97   (POLYGON ((-116.9321159667102 33.3464051059000...  0.007937   24.252290   \n",
       "66   (POLYGON ((-116.8410570065867 33.2559419054459...  0.002918   34.957758   \n",
       "15   POLYGON ((-116.6811140223018 32.88451265870786...  0.002156   64.430007   \n",
       "146  (POLYGON ((-92.0626268708872 31.10577978474263...  0.000030    3.149779   \n",
       "94   POLYGON ((-117.000974922776 33.38656981010941,...  0.000006   52.706195   \n",
       "\n",
       "          pct_htc  \n",
       "97   3.272689e-04  \n",
       "66   8.348507e-05  \n",
       "15   3.346085e-05  \n",
       "146  9.520608e-06  \n",
       "94   1.098324e-07  "
      ]
     },
     "execution_count": 65,
     "metadata": {},
     "output_type": "execute_result"
    }
   ],
   "source": [
    "dissolved_merged.sort_values(\"area_htc\", ascending=False).tail(5)"
   ]
  },
  {
   "cell_type": "code",
   "execution_count": 66,
   "metadata": {},
   "outputs": [],
   "source": [
    "dissolved_merged.to_file(\"data/analysis/htc-reservations.geojson\", driver=\"GeoJSON\")"
   ]
  },
  {
   "cell_type": "code",
   "execution_count": 71,
   "metadata": {},
   "outputs": [
    {
     "data": {
      "text/plain": [
       "168"
      ]
     },
     "execution_count": 71,
     "metadata": {},
     "output_type": "execute_result"
    }
   ],
   "source": [
    "len(dissolved_merged)"
   ]
  },
  {
   "cell_type": "code",
   "execution_count": 67,
   "metadata": {},
   "outputs": [
    {
     "data": {
      "text/plain": [
       "225788.0547851181"
      ]
     },
     "execution_count": 67,
     "metadata": {},
     "output_type": "execute_result"
    }
   ],
   "source": [
    "dissolved_merged.area_htc.sum()"
   ]
  },
  {
   "cell_type": "code",
   "execution_count": 70,
   "metadata": {},
   "outputs": [
    {
     "data": {
      "text/plain": [
       "295020.57328184653"
      ]
     },
     "execution_count": 70,
     "metadata": {},
     "output_type": "execute_result"
    }
   ],
   "source": [
    "reservations_deduped['area'].sum()"
   ]
  },
  {
   "cell_type": "code",
   "execution_count": 72,
   "metadata": {},
   "outputs": [
    {
     "data": {
      "text/plain": [
       "0.7653298625022077"
      ]
     },
     "execution_count": 72,
     "metadata": {},
     "output_type": "execute_result"
    }
   ],
   "source": [
    "dissolved_merged.area_htc.sum() / reservations_deduped['area'].sum()"
   ]
  }
 ],
 "metadata": {
  "kernelspec": {
   "display_name": "Python 3",
   "language": "python",
   "name": "python3"
  },
  "language_info": {
   "codemirror_mode": {
    "name": "ipython",
    "version": 3
   },
   "file_extension": ".py",
   "mimetype": "text/x-python",
   "name": "python",
   "nbconvert_exporter": "python",
   "pygments_lexer": "ipython3",
   "version": "3.6.7"
  }
 },
 "nbformat": 4,
 "nbformat_minor": 2
}
