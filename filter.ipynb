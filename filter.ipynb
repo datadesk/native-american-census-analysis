{
 "cells": [
  {
   "cell_type": "code",
   "execution_count": 1,
   "metadata": {},
   "outputs": [],
   "source": [
    "import pandas as pd\n",
    "import geopandas as gpd"
   ]
  },
  {
   "cell_type": "code",
   "execution_count": 2,
   "metadata": {},
   "outputs": [],
   "source": [
    "tracts = gpd.read_file(\"/media/palewire/Passport/hard-to-count-tracts.shp\")"
   ]
  },
  {
   "cell_type": "code",
   "execution_count": 3,
   "metadata": {},
   "outputs": [
    {
     "data": {
      "text/plain": [
       "72845"
      ]
     },
     "execution_count": 3,
     "metadata": {},
     "output_type": "execute_result"
    }
   ],
   "source": [
    "len(tracts)"
   ]
  },
  {
   "cell_type": "code",
   "execution_count": 4,
   "metadata": {},
   "outputs": [
    {
     "data": {
      "text/html": [
       "<div>\n",
       "<style scoped>\n",
       "    .dataframe tbody tr th:only-of-type {\n",
       "        vertical-align: middle;\n",
       "    }\n",
       "\n",
       "    .dataframe tbody tr th {\n",
       "        vertical-align: top;\n",
       "    }\n",
       "\n",
       "    .dataframe thead th {\n",
       "        text-align: right;\n",
       "    }\n",
       "</style>\n",
       "<table border=\"1\" class=\"dataframe\">\n",
       "  <thead>\n",
       "    <tr style=\"text-align: right;\">\n",
       "      <th></th>\n",
       "      <th>GEOID10</th>\n",
       "      <th>TotPopACS1</th>\n",
       "      <th>MRR2010</th>\n",
       "      <th>MRR20pctth</th>\n",
       "      <th>UE_flag</th>\n",
       "      <th>HTCcombofl</th>\n",
       "      <th>geometry</th>\n",
       "    </tr>\n",
       "  </thead>\n",
       "  <tbody>\n",
       "    <tr>\n",
       "      <th>0</th>\n",
       "      <td>01005950300</td>\n",
       "      <td>1813</td>\n",
       "      <td>77.9</td>\n",
       "      <td>0</td>\n",
       "      <td>0</td>\n",
       "      <td>0</td>\n",
       "      <td>POLYGON ((-85.52743699999999 31.866503, -85.52...</td>\n",
       "    </tr>\n",
       "    <tr>\n",
       "      <th>1</th>\n",
       "      <td>01005950900</td>\n",
       "      <td>3888</td>\n",
       "      <td>74.6</td>\n",
       "      <td>0</td>\n",
       "      <td>0</td>\n",
       "      <td>0</td>\n",
       "      <td>POLYGON ((-85.16412199999999 31.830595, -85.16...</td>\n",
       "    </tr>\n",
       "    <tr>\n",
       "      <th>2</th>\n",
       "      <td>01005950800</td>\n",
       "      <td>2157</td>\n",
       "      <td>83.5</td>\n",
       "      <td>0</td>\n",
       "      <td>0</td>\n",
       "      <td>0</td>\n",
       "      <td>POLYGON ((-85.148718 31.909335, -85.1466349999...</td>\n",
       "    </tr>\n",
       "    <tr>\n",
       "      <th>3</th>\n",
       "      <td>01005950700</td>\n",
       "      <td>1775</td>\n",
       "      <td>79.6</td>\n",
       "      <td>0</td>\n",
       "      <td>0</td>\n",
       "      <td>0</td>\n",
       "      <td>POLYGON ((-85.14578399999999 31.891491, -85.14...</td>\n",
       "    </tr>\n",
       "    <tr>\n",
       "      <th>4</th>\n",
       "      <td>01005950600</td>\n",
       "      <td>2120</td>\n",
       "      <td>79.4</td>\n",
       "      <td>0</td>\n",
       "      <td>0</td>\n",
       "      <td>0</td>\n",
       "      <td>POLYGON ((-85.14572299999999 31.890106, -85.14...</td>\n",
       "    </tr>\n",
       "  </tbody>\n",
       "</table>\n",
       "</div>"
      ],
      "text/plain": [
       "       GEOID10  TotPopACS1  MRR2010  MRR20pctth  UE_flag  HTCcombofl  \\\n",
       "0  01005950300        1813     77.9           0        0           0   \n",
       "1  01005950900        3888     74.6           0        0           0   \n",
       "2  01005950800        2157     83.5           0        0           0   \n",
       "3  01005950700        1775     79.6           0        0           0   \n",
       "4  01005950600        2120     79.4           0        0           0   \n",
       "\n",
       "                                            geometry  \n",
       "0  POLYGON ((-85.52743699999999 31.866503, -85.52...  \n",
       "1  POLYGON ((-85.16412199999999 31.830595, -85.16...  \n",
       "2  POLYGON ((-85.148718 31.909335, -85.1466349999...  \n",
       "3  POLYGON ((-85.14578399999999 31.891491, -85.14...  \n",
       "4  POLYGON ((-85.14572299999999 31.890106, -85.14...  "
      ]
     },
     "execution_count": 4,
     "metadata": {},
     "output_type": "execute_result"
    }
   ],
   "source": [
    "tracts.head()"
   ]
  },
  {
   "cell_type": "code",
   "execution_count": 5,
   "metadata": {},
   "outputs": [],
   "source": [
    "tribal_lands = gpd.read_file(\"data/tiger/tl_2018_us_aiannh/tl_2018_us_aiannh.shp\")"
   ]
  },
  {
   "cell_type": "code",
   "execution_count": 6,
   "metadata": {},
   "outputs": [
    {
     "data": {
      "text/plain": [
       "845"
      ]
     },
     "execution_count": 6,
     "metadata": {},
     "output_type": "execute_result"
    }
   ],
   "source": [
    "len(tribal_lands)"
   ]
  },
  {
   "cell_type": "code",
   "execution_count": 10,
   "metadata": {},
   "outputs": [],
   "source": [
    "trimmed_tribal = tribal_lands[['GEOID', 'NAMELSAD', 'geometry']]"
   ]
  },
  {
   "cell_type": "code",
   "execution_count": 11,
   "metadata": {},
   "outputs": [],
   "source": [
    "prepped_tribal = trimmed_tribal.rename(columns={\n",
    "    \"GEOID\": \"geoid_tribal\",\n",
    "    \"NAMELSAD\": \"name_tribal\",\n",
    "})"
   ]
  },
  {
   "cell_type": "code",
   "execution_count": 12,
   "metadata": {},
   "outputs": [
    {
     "data": {
      "text/html": [
       "<div>\n",
       "<style scoped>\n",
       "    .dataframe tbody tr th:only-of-type {\n",
       "        vertical-align: middle;\n",
       "    }\n",
       "\n",
       "    .dataframe tbody tr th {\n",
       "        vertical-align: top;\n",
       "    }\n",
       "\n",
       "    .dataframe thead th {\n",
       "        text-align: right;\n",
       "    }\n",
       "</style>\n",
       "<table border=\"1\" class=\"dataframe\">\n",
       "  <thead>\n",
       "    <tr style=\"text-align: right;\">\n",
       "      <th></th>\n",
       "      <th>geoid_tribal</th>\n",
       "      <th>name_tribal</th>\n",
       "      <th>geometry</th>\n",
       "    </tr>\n",
       "  </thead>\n",
       "  <tbody>\n",
       "    <tr>\n",
       "      <th>0</th>\n",
       "      <td>2320R</td>\n",
       "      <td>Mohegan Reservation</td>\n",
       "      <td>(POLYGON ((-72.089125 41.480395, -72.089004 41...</td>\n",
       "    </tr>\n",
       "    <tr>\n",
       "      <th>1</th>\n",
       "      <td>9100R</td>\n",
       "      <td>Golden Hill Paugussett (state) Reservation</td>\n",
       "      <td>(POLYGON ((-72.26917299999999 41.554725, -72.2...</td>\n",
       "    </tr>\n",
       "    <tr>\n",
       "      <th>2</th>\n",
       "      <td>4110R</td>\n",
       "      <td>Table Mountain Rancheria</td>\n",
       "      <td>POLYGON ((-119.640915 36.984246, -119.640807 3...</td>\n",
       "    </tr>\n",
       "    <tr>\n",
       "      <th>3</th>\n",
       "      <td>1380R</td>\n",
       "      <td>Greenville Rancheria</td>\n",
       "      <td>POLYGON ((-120.897365 40.150998, -120.897334 4...</td>\n",
       "    </tr>\n",
       "    <tr>\n",
       "      <th>4</th>\n",
       "      <td>1110R</td>\n",
       "      <td>Flathead Reservation</td>\n",
       "      <td>POLYGON ((-114.851209 47.887207, -114.819894 4...</td>\n",
       "    </tr>\n",
       "  </tbody>\n",
       "</table>\n",
       "</div>"
      ],
      "text/plain": [
       "  geoid_tribal                                 name_tribal  \\\n",
       "0        2320R                         Mohegan Reservation   \n",
       "1        9100R  Golden Hill Paugussett (state) Reservation   \n",
       "2        4110R                    Table Mountain Rancheria   \n",
       "3        1380R                        Greenville Rancheria   \n",
       "4        1110R                        Flathead Reservation   \n",
       "\n",
       "                                            geometry  \n",
       "0  (POLYGON ((-72.089125 41.480395, -72.089004 41...  \n",
       "1  (POLYGON ((-72.26917299999999 41.554725, -72.2...  \n",
       "2  POLYGON ((-119.640915 36.984246, -119.640807 3...  \n",
       "3  POLYGON ((-120.897365 40.150998, -120.897334 4...  \n",
       "4  POLYGON ((-114.851209 47.887207, -114.819894 4...  "
      ]
     },
     "execution_count": 12,
     "metadata": {},
     "output_type": "execute_result"
    }
   ],
   "source": [
    "prepped_tribal.head()"
   ]
  },
  {
   "cell_type": "code",
   "execution_count": 40,
   "metadata": {},
   "outputs": [],
   "source": [
    "merged = gpd.sjoin(\n",
    "    tracts,\n",
    "    prepped_tribal,\n",
    "    op=\"within\",\n",
    "    how=\"left\"\n",
    ")"
   ]
  },
  {
   "cell_type": "code",
   "execution_count": 41,
   "metadata": {},
   "outputs": [
    {
     "data": {
      "text/plain": [
       "72845"
      ]
     },
     "execution_count": 41,
     "metadata": {},
     "output_type": "execute_result"
    }
   ],
   "source": [
    "len(merged)"
   ]
  },
  {
   "cell_type": "code",
   "execution_count": 42,
   "metadata": {},
   "outputs": [
    {
     "data": {
      "text/html": [
       "<div>\n",
       "<style scoped>\n",
       "    .dataframe tbody tr th:only-of-type {\n",
       "        vertical-align: middle;\n",
       "    }\n",
       "\n",
       "    .dataframe tbody tr th {\n",
       "        vertical-align: top;\n",
       "    }\n",
       "\n",
       "    .dataframe thead th {\n",
       "        text-align: right;\n",
       "    }\n",
       "</style>\n",
       "<table border=\"1\" class=\"dataframe\">\n",
       "  <thead>\n",
       "    <tr style=\"text-align: right;\">\n",
       "      <th></th>\n",
       "      <th>GEOID10</th>\n",
       "      <th>TotPopACS1</th>\n",
       "      <th>MRR2010</th>\n",
       "      <th>MRR20pctth</th>\n",
       "      <th>UE_flag</th>\n",
       "      <th>HTCcombofl</th>\n",
       "      <th>geometry</th>\n",
       "      <th>index_right</th>\n",
       "      <th>geoid_tribal</th>\n",
       "      <th>name_tribal</th>\n",
       "    </tr>\n",
       "  </thead>\n",
       "  <tbody>\n",
       "    <tr>\n",
       "      <th>0</th>\n",
       "      <td>01005950300</td>\n",
       "      <td>1813</td>\n",
       "      <td>77.9</td>\n",
       "      <td>0</td>\n",
       "      <td>0</td>\n",
       "      <td>0</td>\n",
       "      <td>POLYGON ((-85.52743699999999 31.866503, -85.52...</td>\n",
       "      <td>NaN</td>\n",
       "      <td>NaN</td>\n",
       "      <td>NaN</td>\n",
       "    </tr>\n",
       "    <tr>\n",
       "      <th>1</th>\n",
       "      <td>01005950900</td>\n",
       "      <td>3888</td>\n",
       "      <td>74.6</td>\n",
       "      <td>0</td>\n",
       "      <td>0</td>\n",
       "      <td>0</td>\n",
       "      <td>POLYGON ((-85.16412199999999 31.830595, -85.16...</td>\n",
       "      <td>NaN</td>\n",
       "      <td>NaN</td>\n",
       "      <td>NaN</td>\n",
       "    </tr>\n",
       "    <tr>\n",
       "      <th>2</th>\n",
       "      <td>01005950800</td>\n",
       "      <td>2157</td>\n",
       "      <td>83.5</td>\n",
       "      <td>0</td>\n",
       "      <td>0</td>\n",
       "      <td>0</td>\n",
       "      <td>POLYGON ((-85.148718 31.909335, -85.1466349999...</td>\n",
       "      <td>NaN</td>\n",
       "      <td>NaN</td>\n",
       "      <td>NaN</td>\n",
       "    </tr>\n",
       "    <tr>\n",
       "      <th>3</th>\n",
       "      <td>01005950700</td>\n",
       "      <td>1775</td>\n",
       "      <td>79.6</td>\n",
       "      <td>0</td>\n",
       "      <td>0</td>\n",
       "      <td>0</td>\n",
       "      <td>POLYGON ((-85.14578399999999 31.891491, -85.14...</td>\n",
       "      <td>NaN</td>\n",
       "      <td>NaN</td>\n",
       "      <td>NaN</td>\n",
       "    </tr>\n",
       "    <tr>\n",
       "      <th>4</th>\n",
       "      <td>01005950600</td>\n",
       "      <td>2120</td>\n",
       "      <td>79.4</td>\n",
       "      <td>0</td>\n",
       "      <td>0</td>\n",
       "      <td>0</td>\n",
       "      <td>POLYGON ((-85.14572299999999 31.890106, -85.14...</td>\n",
       "      <td>NaN</td>\n",
       "      <td>NaN</td>\n",
       "      <td>NaN</td>\n",
       "    </tr>\n",
       "  </tbody>\n",
       "</table>\n",
       "</div>"
      ],
      "text/plain": [
       "       GEOID10  TotPopACS1  MRR2010  MRR20pctth  UE_flag  HTCcombofl  \\\n",
       "0  01005950300        1813     77.9           0        0           0   \n",
       "1  01005950900        3888     74.6           0        0           0   \n",
       "2  01005950800        2157     83.5           0        0           0   \n",
       "3  01005950700        1775     79.6           0        0           0   \n",
       "4  01005950600        2120     79.4           0        0           0   \n",
       "\n",
       "                                            geometry  index_right  \\\n",
       "0  POLYGON ((-85.52743699999999 31.866503, -85.52...          NaN   \n",
       "1  POLYGON ((-85.16412199999999 31.830595, -85.16...          NaN   \n",
       "2  POLYGON ((-85.148718 31.909335, -85.1466349999...          NaN   \n",
       "3  POLYGON ((-85.14578399999999 31.891491, -85.14...          NaN   \n",
       "4  POLYGON ((-85.14572299999999 31.890106, -85.14...          NaN   \n",
       "\n",
       "  geoid_tribal name_tribal  \n",
       "0          NaN         NaN  \n",
       "1          NaN         NaN  \n",
       "2          NaN         NaN  \n",
       "3          NaN         NaN  \n",
       "4          NaN         NaN  "
      ]
     },
     "execution_count": 42,
     "metadata": {},
     "output_type": "execute_result"
    }
   ],
   "source": [
    "merged.head()"
   ]
  },
  {
   "cell_type": "code",
   "execution_count": 43,
   "metadata": {},
   "outputs": [],
   "source": [
    "merged['is_tribal'] = merged.geoid_tribal.apply(\n",
    "    lambda x: 0 if pd.isnull(x) else 1\n",
    ")"
   ]
  },
  {
   "cell_type": "code",
   "execution_count": 44,
   "metadata": {},
   "outputs": [],
   "source": [
    "deduped = merged.drop_duplicates([\"GEOID10\"])"
   ]
  },
  {
   "cell_type": "code",
   "execution_count": 45,
   "metadata": {},
   "outputs": [
    {
     "data": {
      "text/plain": [
       "72845"
      ]
     },
     "execution_count": 45,
     "metadata": {},
     "output_type": "execute_result"
    }
   ],
   "source": [
    "len(deduped)"
   ]
  },
  {
   "cell_type": "code",
   "execution_count": 46,
   "metadata": {},
   "outputs": [
    {
     "data": {
      "text/html": [
       "<div>\n",
       "<style scoped>\n",
       "    .dataframe tbody tr th:only-of-type {\n",
       "        vertical-align: middle;\n",
       "    }\n",
       "\n",
       "    .dataframe tbody tr th {\n",
       "        vertical-align: top;\n",
       "    }\n",
       "\n",
       "    .dataframe thead th {\n",
       "        text-align: right;\n",
       "    }\n",
       "</style>\n",
       "<table border=\"1\" class=\"dataframe\">\n",
       "  <thead>\n",
       "    <tr style=\"text-align: right;\">\n",
       "      <th></th>\n",
       "      <th>GEOID10</th>\n",
       "      <th>TotPopACS1</th>\n",
       "    </tr>\n",
       "    <tr>\n",
       "      <th>is_tribal</th>\n",
       "      <th></th>\n",
       "      <th></th>\n",
       "    </tr>\n",
       "  </thead>\n",
       "  <tbody>\n",
       "    <tr>\n",
       "      <th>0</th>\n",
       "      <td>72167</td>\n",
       "      <td>318200708</td>\n",
       "    </tr>\n",
       "    <tr>\n",
       "      <th>1</th>\n",
       "      <td>678</td>\n",
       "      <td>2679988</td>\n",
       "    </tr>\n",
       "  </tbody>\n",
       "</table>\n",
       "</div>"
      ],
      "text/plain": [
       "           GEOID10  TotPopACS1\n",
       "is_tribal                     \n",
       "0            72167   318200708\n",
       "1              678     2679988"
      ]
     },
     "execution_count": 46,
     "metadata": {},
     "output_type": "execute_result"
    }
   ],
   "source": [
    "deduped.groupby([\n",
    "    'is_tribal',\n",
    "]).agg(\n",
    "    {\n",
    "        \"GEOID10\": \"count\",\n",
    "        \"TotPopACS1\": \"sum\"\n",
    "    }\n",
    ")"
   ]
  },
  {
   "cell_type": "code",
   "execution_count": 47,
   "metadata": {},
   "outputs": [
    {
     "data": {
      "text/html": [
       "<div>\n",
       "<style scoped>\n",
       "    .dataframe tbody tr th:only-of-type {\n",
       "        vertical-align: middle;\n",
       "    }\n",
       "\n",
       "    .dataframe tbody tr th {\n",
       "        vertical-align: top;\n",
       "    }\n",
       "\n",
       "    .dataframe thead th {\n",
       "        text-align: right;\n",
       "    }\n",
       "</style>\n",
       "<table border=\"1\" class=\"dataframe\">\n",
       "  <thead>\n",
       "    <tr style=\"text-align: right;\">\n",
       "      <th></th>\n",
       "      <th></th>\n",
       "      <th>GEOID10</th>\n",
       "      <th>TotPopACS1</th>\n",
       "    </tr>\n",
       "    <tr>\n",
       "      <th>is_tribal</th>\n",
       "      <th>MRR20pctth</th>\n",
       "      <th></th>\n",
       "      <th></th>\n",
       "    </tr>\n",
       "  </thead>\n",
       "  <tbody>\n",
       "    <tr>\n",
       "      <th rowspan=\"2\" valign=\"top\">0</th>\n",
       "      <th>0</th>\n",
       "      <td>58016</td>\n",
       "      <td>260013788</td>\n",
       "    </tr>\n",
       "    <tr>\n",
       "      <th>1</th>\n",
       "      <td>14151</td>\n",
       "      <td>58186920</td>\n",
       "    </tr>\n",
       "    <tr>\n",
       "      <th rowspan=\"2\" valign=\"top\">1</th>\n",
       "      <th>0</th>\n",
       "      <td>469</td>\n",
       "      <td>1914874</td>\n",
       "    </tr>\n",
       "    <tr>\n",
       "      <th>1</th>\n",
       "      <td>209</td>\n",
       "      <td>765114</td>\n",
       "    </tr>\n",
       "  </tbody>\n",
       "</table>\n",
       "</div>"
      ],
      "text/plain": [
       "                      GEOID10  TotPopACS1\n",
       "is_tribal MRR20pctth                     \n",
       "0         0             58016   260013788\n",
       "          1             14151    58186920\n",
       "1         0               469     1914874\n",
       "          1               209      765114"
      ]
     },
     "execution_count": 47,
     "metadata": {},
     "output_type": "execute_result"
    }
   ],
   "source": [
    "deduped.groupby([\n",
    "    'is_tribal',\n",
    "    'MRR20pctth',\n",
    "]).agg(\n",
    "    {\n",
    "        \"GEOID10\": \"count\",\n",
    "        \"TotPopACS1\": \"sum\"\n",
    "    }\n",
    ")"
   ]
  },
  {
   "cell_type": "code",
   "execution_count": 48,
   "metadata": {},
   "outputs": [
    {
     "data": {
      "text/html": [
       "<div>\n",
       "<style scoped>\n",
       "    .dataframe tbody tr th:only-of-type {\n",
       "        vertical-align: middle;\n",
       "    }\n",
       "\n",
       "    .dataframe tbody tr th {\n",
       "        vertical-align: top;\n",
       "    }\n",
       "\n",
       "    .dataframe thead th {\n",
       "        text-align: right;\n",
       "    }\n",
       "</style>\n",
       "<table border=\"1\" class=\"dataframe\">\n",
       "  <thead>\n",
       "    <tr style=\"text-align: right;\">\n",
       "      <th></th>\n",
       "      <th></th>\n",
       "      <th>GEOID10</th>\n",
       "      <th>TotPopACS1</th>\n",
       "    </tr>\n",
       "    <tr>\n",
       "      <th>is_tribal</th>\n",
       "      <th>UE_flag</th>\n",
       "      <th></th>\n",
       "      <th></th>\n",
       "    </tr>\n",
       "  </thead>\n",
       "  <tbody>\n",
       "    <tr>\n",
       "      <th rowspan=\"2\" valign=\"top\">0</th>\n",
       "      <th>0</th>\n",
       "      <td>71762</td>\n",
       "      <td>316887877</td>\n",
       "    </tr>\n",
       "    <tr>\n",
       "      <th>1</th>\n",
       "      <td>405</td>\n",
       "      <td>1312831</td>\n",
       "    </tr>\n",
       "    <tr>\n",
       "      <th rowspan=\"2\" valign=\"top\">1</th>\n",
       "      <th>0</th>\n",
       "      <td>636</td>\n",
       "      <td>2519814</td>\n",
       "    </tr>\n",
       "    <tr>\n",
       "      <th>1</th>\n",
       "      <td>42</td>\n",
       "      <td>160174</td>\n",
       "    </tr>\n",
       "  </tbody>\n",
       "</table>\n",
       "</div>"
      ],
      "text/plain": [
       "                   GEOID10  TotPopACS1\n",
       "is_tribal UE_flag                     \n",
       "0         0          71762   316887877\n",
       "          1            405     1312831\n",
       "1         0            636     2519814\n",
       "          1             42      160174"
      ]
     },
     "execution_count": 48,
     "metadata": {},
     "output_type": "execute_result"
    }
   ],
   "source": [
    "deduped.groupby([\n",
    "    'is_tribal',\n",
    "    'UE_flag',\n",
    "]).agg(\n",
    "    {\n",
    "        \"GEOID10\": \"count\",\n",
    "        \"TotPopACS1\": \"sum\"\n",
    "    }\n",
    ")"
   ]
  },
  {
   "cell_type": "code",
   "execution_count": 50,
   "metadata": {},
   "outputs": [
    {
     "data": {
      "text/html": [
       "<div>\n",
       "<style scoped>\n",
       "    .dataframe tbody tr th:only-of-type {\n",
       "        vertical-align: middle;\n",
       "    }\n",
       "\n",
       "    .dataframe tbody tr th {\n",
       "        vertical-align: top;\n",
       "    }\n",
       "\n",
       "    .dataframe thead th {\n",
       "        text-align: right;\n",
       "    }\n",
       "</style>\n",
       "<table border=\"1\" class=\"dataframe\">\n",
       "  <thead>\n",
       "    <tr style=\"text-align: right;\">\n",
       "      <th></th>\n",
       "      <th></th>\n",
       "      <th>GEOID10</th>\n",
       "      <th>TotPopACS1</th>\n",
       "    </tr>\n",
       "    <tr>\n",
       "      <th>is_tribal</th>\n",
       "      <th>HTCcombofl</th>\n",
       "      <th></th>\n",
       "      <th></th>\n",
       "    </tr>\n",
       "  </thead>\n",
       "  <tbody>\n",
       "    <tr>\n",
       "      <th rowspan=\"3\" valign=\"top\">0</th>\n",
       "      <th>0</th>\n",
       "      <td>57618</td>\n",
       "      <td>258726205</td>\n",
       "    </tr>\n",
       "    <tr>\n",
       "      <th>1</th>\n",
       "      <td>14542</td>\n",
       "      <td>59449255</td>\n",
       "    </tr>\n",
       "    <tr>\n",
       "      <th>2</th>\n",
       "      <td>7</td>\n",
       "      <td>25248</td>\n",
       "    </tr>\n",
       "    <tr>\n",
       "      <th rowspan=\"2\" valign=\"top\">1</th>\n",
       "      <th>0</th>\n",
       "      <td>427</td>\n",
       "      <td>1754700</td>\n",
       "    </tr>\n",
       "    <tr>\n",
       "      <th>1</th>\n",
       "      <td>251</td>\n",
       "      <td>925288</td>\n",
       "    </tr>\n",
       "  </tbody>\n",
       "</table>\n",
       "</div>"
      ],
      "text/plain": [
       "                      GEOID10  TotPopACS1\n",
       "is_tribal HTCcombofl                     \n",
       "0         0             57618   258726205\n",
       "          1             14542    59449255\n",
       "          2                 7       25248\n",
       "1         0               427     1754700\n",
       "          1               251      925288"
      ]
     },
     "execution_count": 50,
     "metadata": {},
     "output_type": "execute_result"
    }
   ],
   "source": [
    "deduped.groupby([\n",
    "    'is_tribal',\n",
    "    'HTCcombofl'\n",
    "]).agg(\n",
    "    {\n",
    "        \"GEOID10\": \"count\",\n",
    "        \"TotPopACS1\": \"sum\"\n",
    "    }\n",
    ")"
   ]
  },
  {
   "cell_type": "code",
   "execution_count": 51,
   "metadata": {},
   "outputs": [],
   "source": [
    "deduped[deduped.is_tribal == 1].to_file(\n",
    "    \"data/analysis/tracts-on-tribal-lands.shp\"\n",
    ")"
   ]
  }
 ],
 "metadata": {
  "kernelspec": {
   "display_name": "Python 3",
   "language": "python",
   "name": "python3"
  },
  "language_info": {
   "codemirror_mode": {
    "name": "ipython",
    "version": 3
   },
   "file_extension": ".py",
   "mimetype": "text/x-python",
   "name": "python",
   "nbconvert_exporter": "python",
   "pygments_lexer": "ipython3",
   "version": "3.6.7"
  }
 },
 "nbformat": 4,
 "nbformat_minor": 2
}
