{
 "cells": [
  {
   "cell_type": "markdown",
   "metadata": {},
   "source": [
    "# Hard to count Census tract maps\n",
    "\n",
    "By [Ben Welsh](https://palewi.re/who-is-ben-welsh/)"
   ]
  },
  {
   "cell_type": "code",
   "execution_count": 3,
   "metadata": {},
   "outputs": [],
   "source": [
    "import pandas as pd\n",
    "import geopandas as gpd\n",
    "from tracts import USTractDownloader2010"
   ]
  },
  {
   "cell_type": "markdown",
   "metadata": {},
   "source": [
    "Download a shapefile of all Census tracts from the 2010 Census"
   ]
  },
  {
   "cell_type": "code",
   "execution_count": 4,
   "metadata": {},
   "outputs": [],
   "source": [
    "USTractDownloader2010(data_dir=\"data/tiger/\").run()"
   ]
  },
  {
   "cell_type": "markdown",
   "metadata": {},
   "source": [
    "Read it in."
   ]
  },
  {
   "cell_type": "code",
   "execution_count": 22,
   "metadata": {},
   "outputs": [],
   "source": [
    "tracts = gpd.read_file(\"data/tiger/us.shp\")"
   ]
  },
  {
   "cell_type": "markdown",
   "metadata": {},
   "source": [
    "Read in the hard-to-count estimates from CUNY."
   ]
  },
  {
   "cell_type": "code",
   "execution_count": 25,
   "metadata": {},
   "outputs": [],
   "source": [
    "htc = pd.read_excel(\"./data/cuny/pdb2015tract_2010MRR_2017ACS_US.xlsx\", skiprows=5, dtype={\"GEOID\": str, \"GEOIDtxt\": str})"
   ]
  },
  {
   "cell_type": "markdown",
   "metadata": {},
   "source": [
    "Merge the two into a consolidated file."
   ]
  },
  {
   "cell_type": "code",
   "execution_count": 7,
   "metadata": {},
   "outputs": [],
   "source": [
    "merged = tracts.merge(\n",
    "    htc,\n",
    "    left_on=\"GEOID10\",\n",
    "    right_on=\"GEOIDtxt\",\n",
    "    how=\"inner\"\n",
    ")"
   ]
  },
  {
   "cell_type": "markdown",
   "metadata": {},
   "source": [
    "Trim down to only the columns we want."
   ]
  },
  {
   "cell_type": "code",
   "execution_count": 27,
   "metadata": {},
   "outputs": [],
   "source": [
    "trimmed = merged[[\n",
    "    'GEOID10',\n",
    "    'State_name',\n",
    "    'County_name10',\n",
    "    'TotPopACS17',\n",
    "    'MRR2010',\n",
    "    'MRR20pctthreshold',\n",
    "    'UE_flag',\n",
    "    'HTCcomboflag',\n",
    "    'geometry'\n",
    "]]"
   ]
  },
  {
   "cell_type": "markdown",
   "metadata": {},
   "source": [
    "Clean up the headers"
   ]
  },
  {
   "cell_type": "code",
   "execution_count": 28,
   "metadata": {},
   "outputs": [],
   "source": [
    "cleaned = trimmed.rename(columns={\n",
    "    \"GEOID10\": \"geoid\",\n",
    "    \"State_name\": \"state\",\n",
    "    \"County_name10\": \"county\",\n",
    "    \"TotPopACS17\": \"pop\",\n",
    "    \"MRR2010\": \"mrr\",\n",
    "    \"MRR20pctthreshold\": \"mrr_htc\",\n",
    "    \"UE_flag\": \"ue\",\n",
    "    \"HTCcomboflag\": \"htc\"\n",
    "})"
   ]
  },
  {
   "cell_type": "markdown",
   "metadata": {},
   "source": [
    "How many tracts are hard to count?"
   ]
  },
  {
   "cell_type": "code",
   "execution_count": 29,
   "metadata": {},
   "outputs": [
    {
     "data": {
      "text/plain": [
       "0    58045\n",
       "1    14793\n",
       "2        7\n",
       "Name: htc, dtype: int64"
      ]
     },
     "execution_count": 29,
     "metadata": {},
     "output_type": "execute_result"
    }
   ],
   "source": [
    "cleaned.htc.value_counts()"
   ]
  },
  {
   "cell_type": "markdown",
   "metadata": {},
   "source": [
    "How many people live in those tracts?"
   ]
  },
  {
   "cell_type": "code",
   "execution_count": 30,
   "metadata": {},
   "outputs": [
    {
     "data": {
      "text/plain": [
       "htc\n",
       "0    260480905\n",
       "1     60374543\n",
       "2        25248\n",
       "Name: pop, dtype: int64"
      ]
     },
     "execution_count": 30,
     "metadata": {},
     "output_type": "execute_result"
    }
   ],
   "source": [
    "cleaned.groupby(\"htc\").pop.sum()"
   ]
  },
  {
   "cell_type": "markdown",
   "metadata": {},
   "source": [
    "What is the distribution of the mail-response rate?"
   ]
  },
  {
   "cell_type": "code",
   "execution_count": 31,
   "metadata": {},
   "outputs": [
    {
     "data": {
      "text/plain": [
       "count    72845.000000\n",
       "mean      1406.622404\n",
       "std      11441.662340\n",
       "min          0.000000\n",
       "20%         73.100000\n",
       "40%         77.900000\n",
       "50%         79.900000\n",
       "60%         81.800000\n",
       "80%         85.500000\n",
       "max      99999.000000\n",
       "Name: mrr, dtype: float64"
      ]
     },
     "execution_count": 31,
     "metadata": {},
     "output_type": "execute_result"
    }
   ],
   "source": [
    "cleaned.mrr.describe(percentiles=[.2, .4, .6, .8])"
   ]
  },
  {
   "cell_type": "markdown",
   "metadata": {},
   "source": [
    "Reproject the maps to CRS 84"
   ]
  },
  {
   "cell_type": "code",
   "execution_count": 32,
   "metadata": {},
   "outputs": [],
   "source": [
    "reprojected = cleaned.to_crs(epsg=4326)"
   ]
  },
  {
   "cell_type": "markdown",
   "metadata": {},
   "source": [
    "Write out a GeoJSON file."
   ]
  },
  {
   "cell_type": "code",
   "execution_count": 33,
   "metadata": {},
   "outputs": [],
   "source": [
    "reprojected.to_file(\"data/analysis/hard-to-count-tracts.geojson\", driver=\"GeoJSON\")"
   ]
  },
  {
   "cell_type": "markdown",
   "metadata": {},
   "source": [
    "Create an mbtiles files for Mapbox"
   ]
  },
  {
   "cell_type": "code",
   "execution_count": 34,
   "metadata": {},
   "outputs": [
    {
     "name": "stdout",
     "output_type": "stream",
     "text": [
      "For layer 0, using name \"hardtocounttracts\"\n",
      "72845 features, 193195289 bytes of geometry, 2415510 bytes of separate metadata, 1041128 bytes of string pool\n",
      "Choosing a maxzoom of -z5 for features about 12554 feet (3827 meters) apart\n",
      "Choosing a maxzoom of -z11 for resolution of about 229 feet (69 meters) within features\n",
      "tile 1/0/0 size is 587129 with detail 12, >500000    \n",
      "Going to try keeping the sparsest 76.64% of the features to make it fit\n",
      "tile 1/0/0 size is 587394 with detail 12, >500000    \n",
      "Going to try keeping the sparsest 58.72% of the features to make it fit\n",
      "tile 1/0/0 size is 585687 with detail 12, >500000    \n",
      "Going to try keeping the sparsest 45.11% of the features to make it fit\n",
      "tile 1/0/0 size is 577932 with detail 12, >500000    \n",
      "Going to try keeping the sparsest 35.13% of the features to make it fit\n",
      "tile 1/0/0 size is 555942 with detail 12, >500000    \n",
      "Going to try keeping the sparsest 28.43% of the features to make it fit\n",
      "tile 1/0/0 size is 523616 with detail 12, >500000    \n",
      "Going to try keeping the sparsest 24.44% of the features to make it fit\n",
      "tile 2/1/1 size is 599053 with detail 12, >500000    \n",
      "Going to try keeping the sparsest 75.12% of the features to make it fit\n",
      "tile 2/1/1 size is 596787 with detail 12, >500000    \n",
      "Going to try keeping the sparsest 56.64% of the features to make it fit\n",
      "tile 2/1/1 size is 576912 with detail 12, >500000    \n",
      "Going to try keeping the sparsest 44.18% of the features to make it fit\n",
      "tile 2/1/1 size is 536920 with detail 12, >500000    \n",
      "Going to try keeping the sparsest 37.03% of the features to make it fit\n",
      "tile 3/1/3 size is 539318 with detail 12, >500000    \n",
      "Going to try keeping the sparsest 83.44% of the features to make it fit\n",
      "tile 3/2/3 size is 725115 with detail 12, >500000    \n",
      "Going to try keeping the sparsest 62.06% of the features to make it fit\n",
      "tile 3/1/3 size is 532264 with detail 12, >500000    \n",
      "Going to try keeping the sparsest 70.54% of the features to make it fit\n",
      "tile 3/2/3 size is 649091 with detail 12, >500000    \n",
      "Going to try keeping the sparsest 43.02% of the features to make it fit\n",
      "tile 3/1/3 size is 515494 with detail 12, >500000    \n",
      "Going to try keeping the sparsest 61.58% of the features to make it fit\n",
      "tile 3/2/3 size is 539950 with detail 12, >500000    \n",
      "Going to try keeping the sparsest 35.86% of the features to make it fit\n",
      "tile 4/3/6 size is 548100 with detail 12, >500000    \n",
      "Going to try keeping the sparsest 82.10% of the features to make it fit\n",
      "tile 4/4/6 size is 959224 with detail 12, >500000    \n",
      "Going to try keeping the sparsest 46.91% of the features to make it fit\n",
      "tile 4/3/6 size is 507626 with detail 12, >500000    \n",
      "Going to try keeping the sparsest 72.78% of the features to make it fit\n",
      "tile 4/4/6 size is 686253 with detail 12, >500000    \n",
      "Going to try keeping the sparsest 30.76% of the features to make it fit\n",
      "tile 4/4/6 size is 553624 with detail 12, >500000    \n",
      "Going to try keeping the sparsest 25.00% of the features to make it fit\n",
      "tile 4/4/6 size is 500994 with detail 12, >500000    \n",
      "Going to try keeping the sparsest 22.46% of the features to make it fit\n",
      "tile 5/8/12 size is 697272 with detail 12, >500000    \n",
      "Going to try keeping the sparsest 64.54% of the features to make it fit\n",
      "tile 5/8/12 size is 575699 with detail 12, >500000    \n",
      "Going to try keeping the sparsest 50.45% of the features to make it fit\n",
      "tile 5/8/12 size is 515862 with detail 12, >500000    \n",
      "Going to try keeping the sparsest 44.01% of the features to make it fit\n",
      "\n"
     ]
    }
   ],
   "source": [
    "!tippecanoe -zg -o \"./data/analysis/hard-to-count-tracts.mbtiles\" \\\n",
    "    --coalesce-densest-as-needed \\\n",
    "    --extend-zooms-if-still-dropping \\\n",
    "    --generate-ids \\\n",
    "    --force \\\n",
    "    \"data/analysis/hard-to-count-tracts.geojson\""
   ]
  }
 ],
 "metadata": {
  "kernelspec": {
   "display_name": "Python 3",
   "language": "python",
   "name": "python3"
  },
  "language_info": {
   "codemirror_mode": {
    "name": "ipython",
    "version": 3
   },
   "file_extension": ".py",
   "mimetype": "text/x-python",
   "name": "python",
   "nbconvert_exporter": "python",
   "pygments_lexer": "ipython3",
   "version": "3.6.7"
  }
 },
 "nbformat": 4,
 "nbformat_minor": 2
}
