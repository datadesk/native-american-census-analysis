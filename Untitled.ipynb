{
 "cells": [
  {
   "cell_type": "code",
   "execution_count": 9,
   "metadata": {},
   "outputs": [],
   "source": [
    "import collections\n",
    "import pandas as pd\n",
    "import altair as alt\n",
    "import altair_latimes as lat"
   ]
  },
  {
   "cell_type": "code",
   "execution_count": 3,
   "metadata": {},
   "outputs": [
    {
     "data": {
      "text/plain": [
       "ThemeRegistry.enable('latimes')"
      ]
     },
     "execution_count": 3,
     "metadata": {},
     "output_type": "execute_result"
    }
   ],
   "source": [
    "alt.themes.register('latimes', lat.theme)\n",
    "alt.themes.enable('latimes')"
   ]
  },
  {
   "cell_type": "code",
   "execution_count": 4,
   "metadata": {},
   "outputs": [
    {
     "data": {
      "text/plain": [
       "DataTransformerRegistry.enable('json')"
      ]
     },
     "execution_count": 4,
     "metadata": {},
     "output_type": "execute_result"
    }
   ],
   "source": [
    "alt.data_transformers.enable('json')"
   ]
  },
  {
   "cell_type": "code",
   "execution_count": 31,
   "metadata": {},
   "outputs": [],
   "source": [
    "usa = pd.read_csv(\"./data/processed/ipums_nationwide.csv\")"
   ]
  },
  {
   "cell_type": "code",
   "execution_count": 18,
   "metadata": {},
   "outputs": [],
   "source": [
    "na = pd.read_csv(\"./data/processed/ipums_native_americans.csv\")"
   ]
  },
  {
   "cell_type": "code",
   "execution_count": 46,
   "metadata": {},
   "outputs": [],
   "source": [
    "trimmed_columns = collections.OrderedDict((\n",
    "    (\"Year\", \"year\"),\n",
    "    (\"4+ years of college\", \"four_years_plus_total\"),\n",
    "    (\"Total\", \"total\"),\n",
    "))"
   ]
  },
  {
   "cell_type": "code",
   "execution_count": 47,
   "metadata": {},
   "outputs": [],
   "source": [
    "trimmed_usa = usa[trimmed_columns.keys()].rename(columns=trimmed_columns)"
   ]
  },
  {
   "cell_type": "code",
   "execution_count": 48,
   "metadata": {},
   "outputs": [],
   "source": [
    "trimmed_na = na[trimmed_columns.keys()].rename(columns=trimmed_columns)"
   ]
  },
  {
   "cell_type": "code",
   "execution_count": 49,
   "metadata": {},
   "outputs": [],
   "source": [
    "trimmed_usa['four_years_plus_total'] = trimmed_usa.four_years_plus_total.apply(lambda x: float(x.replace(\",\", \"\")))\n",
    "trimmed_na['four_years_plus_total'] = trimmed_na.four_years_plus_total.apply(lambda x: float(x.replace(\",\", \"\")))"
   ]
  },
  {
   "cell_type": "code",
   "execution_count": 50,
   "metadata": {},
   "outputs": [],
   "source": [
    "trimmed_usa['total'] = trimmed_usa.total.apply(lambda x: float(x.replace(\",\", \"\")))\n",
    "trimmed_na['total'] = trimmed_na.total.apply(lambda x: float(x.replace(\",\", \"\")))"
   ]
  },
  {
   "cell_type": "code",
   "execution_count": 51,
   "metadata": {},
   "outputs": [
    {
     "data": {
      "text/html": [
       "<div>\n",
       "<style scoped>\n",
       "    .dataframe tbody tr th:only-of-type {\n",
       "        vertical-align: middle;\n",
       "    }\n",
       "\n",
       "    .dataframe tbody tr th {\n",
       "        vertical-align: top;\n",
       "    }\n",
       "\n",
       "    .dataframe thead th {\n",
       "        text-align: right;\n",
       "    }\n",
       "</style>\n",
       "<table border=\"1\" class=\"dataframe\">\n",
       "  <thead>\n",
       "    <tr style=\"text-align: right;\">\n",
       "      <th></th>\n",
       "      <th>year</th>\n",
       "      <th>four_years_plus_total</th>\n",
       "      <th>total</th>\n",
       "    </tr>\n",
       "  </thead>\n",
       "  <tbody>\n",
       "    <tr>\n",
       "      <th>0</th>\n",
       "      <td>1940</td>\n",
       "      <td>3896405.0</td>\n",
       "      <td>130345857.0</td>\n",
       "    </tr>\n",
       "    <tr>\n",
       "      <th>1</th>\n",
       "      <td>1950</td>\n",
       "      <td>2455969.0</td>\n",
       "      <td>152212387.0</td>\n",
       "    </tr>\n",
       "    <tr>\n",
       "      <th>2</th>\n",
       "      <td>1960</td>\n",
       "      <td>8215966.0</td>\n",
       "      <td>179300473.0</td>\n",
       "    </tr>\n",
       "    <tr>\n",
       "      <th>3</th>\n",
       "      <td>1970</td>\n",
       "      <td>13034700.0</td>\n",
       "      <td>202966600.0</td>\n",
       "    </tr>\n",
       "    <tr>\n",
       "      <th>4</th>\n",
       "      <td>1980</td>\n",
       "      <td>23388100.0</td>\n",
       "      <td>226732000.0</td>\n",
       "    </tr>\n",
       "  </tbody>\n",
       "</table>\n",
       "</div>"
      ],
      "text/plain": [
       "   year  four_years_plus_total        total\n",
       "0  1940              3896405.0  130345857.0\n",
       "1  1950              2455969.0  152212387.0\n",
       "2  1960              8215966.0  179300473.0\n",
       "3  1970             13034700.0  202966600.0\n",
       "4  1980             23388100.0  226732000.0"
      ]
     },
     "execution_count": 51,
     "metadata": {},
     "output_type": "execute_result"
    }
   ],
   "source": [
    "trimmed_usa.head()"
   ]
  },
  {
   "cell_type": "code",
   "execution_count": 53,
   "metadata": {},
   "outputs": [],
   "source": [
    "trimmed_usa['four_plus_plus_percent'] = trimmed_usa.four_years_plus_total / trimmed_usa.total\n",
    "trimmed_na['four_plus_plus_percent'] = trimmed_na.four_years_plus_total / trimmed_na.total"
   ]
  },
  {
   "cell_type": "code",
   "execution_count": 54,
   "metadata": {},
   "outputs": [],
   "source": [
    "merged = trimmed_usa.merge(\n",
    "    trimmed_na,\n",
    "    on=\"year\",\n",
    "    how=\"inner\",\n",
    "    suffixes=[\"_usa\", \"_na\"]\n",
    ")"
   ]
  },
  {
   "cell_type": "code",
   "execution_count": 55,
   "metadata": {},
   "outputs": [
    {
     "data": {
      "text/html": [
       "<div>\n",
       "<style scoped>\n",
       "    .dataframe tbody tr th:only-of-type {\n",
       "        vertical-align: middle;\n",
       "    }\n",
       "\n",
       "    .dataframe tbody tr th {\n",
       "        vertical-align: top;\n",
       "    }\n",
       "\n",
       "    .dataframe thead th {\n",
       "        text-align: right;\n",
       "    }\n",
       "</style>\n",
       "<table border=\"1\" class=\"dataframe\">\n",
       "  <thead>\n",
       "    <tr style=\"text-align: right;\">\n",
       "      <th></th>\n",
       "      <th>year</th>\n",
       "      <th>four_years_plus_total_usa</th>\n",
       "      <th>total_usa</th>\n",
       "      <th>four_plus_plus_percent_usa</th>\n",
       "      <th>four_years_plus_total_na</th>\n",
       "      <th>total_na</th>\n",
       "      <th>four_plus_plus_percent_na</th>\n",
       "    </tr>\n",
       "  </thead>\n",
       "  <tbody>\n",
       "    <tr>\n",
       "      <th>0</th>\n",
       "      <td>1940</td>\n",
       "      <td>3896405.0</td>\n",
       "      <td>130345857.0</td>\n",
       "      <td>0.029893</td>\n",
       "      <td>1170.0</td>\n",
       "      <td>334336.0</td>\n",
       "      <td>0.003499</td>\n",
       "    </tr>\n",
       "    <tr>\n",
       "      <th>1</th>\n",
       "      <td>1950</td>\n",
       "      <td>2455969.0</td>\n",
       "      <td>152212387.0</td>\n",
       "      <td>0.016135</td>\n",
       "      <td>1678.0</td>\n",
       "      <td>329438.0</td>\n",
       "      <td>0.005094</td>\n",
       "    </tr>\n",
       "    <tr>\n",
       "      <th>2</th>\n",
       "      <td>1960</td>\n",
       "      <td>8215966.0</td>\n",
       "      <td>179300473.0</td>\n",
       "      <td>0.045822</td>\n",
       "      <td>4381.0</td>\n",
       "      <td>557564.0</td>\n",
       "      <td>0.007857</td>\n",
       "    </tr>\n",
       "    <tr>\n",
       "      <th>3</th>\n",
       "      <td>1970</td>\n",
       "      <td>13034700.0</td>\n",
       "      <td>202966600.0</td>\n",
       "      <td>0.064221</td>\n",
       "      <td>15000.0</td>\n",
       "      <td>786200.0</td>\n",
       "      <td>0.019079</td>\n",
       "    </tr>\n",
       "    <tr>\n",
       "      <th>4</th>\n",
       "      <td>1980</td>\n",
       "      <td>23388100.0</td>\n",
       "      <td>226732000.0</td>\n",
       "      <td>0.103153</td>\n",
       "      <td>62400.0</td>\n",
       "      <td>1568000.0</td>\n",
       "      <td>0.039796</td>\n",
       "    </tr>\n",
       "  </tbody>\n",
       "</table>\n",
       "</div>"
      ],
      "text/plain": [
       "   year  four_years_plus_total_usa    total_usa  four_plus_plus_percent_usa  \\\n",
       "0  1940                  3896405.0  130345857.0                    0.029893   \n",
       "1  1950                  2455969.0  152212387.0                    0.016135   \n",
       "2  1960                  8215966.0  179300473.0                    0.045822   \n",
       "3  1970                 13034700.0  202966600.0                    0.064221   \n",
       "4  1980                 23388100.0  226732000.0                    0.103153   \n",
       "\n",
       "   four_years_plus_total_na   total_na  four_plus_plus_percent_na  \n",
       "0                    1170.0   334336.0                   0.003499  \n",
       "1                    1678.0   329438.0                   0.005094  \n",
       "2                    4381.0   557564.0                   0.007857  \n",
       "3                   15000.0   786200.0                   0.019079  \n",
       "4                   62400.0  1568000.0                   0.039796  "
      ]
     },
     "execution_count": 55,
     "metadata": {},
     "output_type": "execute_result"
    }
   ],
   "source": [
    "merged.head()"
   ]
  },
  {
   "cell_type": "code",
   "execution_count": 56,
   "metadata": {},
   "outputs": [],
   "source": [
    "filtered = merged[merged.year.isin([1940, 1950, 1960, 1970, 1980, 1990, 2000, 2010, 2017])]"
   ]
  },
  {
   "cell_type": "code",
   "execution_count": 77,
   "metadata": {},
   "outputs": [],
   "source": [
    "trimmed = filtered[[\n",
    "    'year',\n",
    "    'four_plus_plus_percent_na',\n",
    "    'four_plus_plus_percent_usa',\n",
    "]].rename(columns={\n",
    "    'four_plus_plus_percent_na': \"Native Americans\",\n",
    "    'four_plus_plus_percent_usa': \"Nationwide\"\n",
    "})"
   ]
  },
  {
   "cell_type": "code",
   "execution_count": 79,
   "metadata": {},
   "outputs": [],
   "source": [
    "stacked = trimmed.set_index(\"year\").stack().reset_index().rename(\n",
    "    columns={\"level_1\": \"group\", 0: \"percent\"}\n",
    ")"
   ]
  },
  {
   "cell_type": "code",
   "execution_count": 81,
   "metadata": {},
   "outputs": [
    {
     "data": {
      "application/vnd.vegalite.v2+json": {
       "$schema": "https://vega.github.io/schema/vega-lite/v2.6.0.json",
       "config": {
        "arc": {
         "fill": "#82c6df"
        },
        "area": {
         "fill": "#82c6df"
        },
        "axis": {
         "labelFont": "Benton Gothic, sans",
         "labelFontSize": 11.5,
         "labelFontWeight": "normal",
         "titleFont": "Benton Gothic Bold, sans",
         "titleFontSize": 13,
         "titleFontWeight": "normal"
        },
        "axisX": {
         "labelAngle": 0,
         "labelPadding": 4,
         "tickSize": 3
        },
        "axisY": {
         "labelBaseline": "middle",
         "maxExtent": 45,
         "minExtent": 45,
         "tickSize": 2,
         "titleAlign": "left",
         "titleAngle": 0,
         "titleX": -45,
         "titleY": -11
        },
        "background": "#ffffff",
        "bar": {
         "fill": "#82c6df"
        },
        "legend": {
         "labelFont": "Benton Gothic, sans",
         "labelFontSize": 11.5,
         "symbolType": "square",
         "titleFont": "Benton Gothic Bold, sans",
         "titleFontSize": 13,
         "titleFontWeight": "normal"
        },
        "line": {
         "stroke": "#82c6df",
         "strokeWidth": 3
        },
        "path": {
         "stroke": "#82c6df"
        },
        "point": {
         "stroke": "#82c6df"
        },
        "range": {
         "category": [
          "#3580b1",
          "#ec8431",
          "#ab7fb4",
          "#c89d29",
          "#adc839",
          "#829eb1"
         ],
         "diverging": [
          "#e68a4f",
          "#f4bb6a",
          "#f9e39c",
          "#dadfe2",
          "#a6b7c6",
          "#849eae"
         ],
         "heatmap": [
          "#fbf2c7",
          "#f9e39c",
          "#f8d36e",
          "#f4bb6a",
          "#e68a4f",
          "#d15a40",
          "#ab4232"
         ],
         "ordinal": [
          "#fbf2c7",
          "#f9e39c",
          "#f8d36e",
          "#f4bb6a",
          "#e68a4f",
          "#d15a40",
          "#ab4232"
         ],
         "ramp": [
          "#fbf2c7",
          "#f9e39c",
          "#f8d36e",
          "#f4bb6a",
          "#e68a4f",
          "#d15a40",
          "#ab4232"
         ]
        },
        "rect": {
         "fill": "#82c6df"
        },
        "shape": {
         "stroke": "#82c6df"
        },
        "symbol": {
         "fill": "#82c6df",
         "size": 30
        },
        "title": {
         "anchor": "start",
         "font": "Benton Gothic Bold, sans",
         "fontColor": "#000000",
         "fontSize": 22,
         "fontWeight": "normal"
        },
        "view": {
         "height": 450,
         "width": 800
        }
       },
       "data": {
        "format": {
         "type": "json"
        },
        "url": "altair-data-c07ebe9b9f9a20823502e5e44e5f5da7.json"
       },
       "encoding": {
        "color": {
         "field": "group",
         "title": "",
         "type": "nominal"
        },
        "x": {
         "field": "year",
         "title": "Year",
         "type": "ordinal"
        },
        "y": {
         "axis": {
          "format": "%"
         },
         "field": "percent",
         "title": "Four or more years of college",
         "type": "quantitative"
        }
       },
       "mark": "line",
       "title": "As college eduction skyrockets, Native Americans lag behind",
       "width": 600
      },
      "image/png": "[encoded data removed]",
      "text/plain": [
       "<VegaLite 2 object>\n",
       "\n",
       "If you see this message, it means the renderer has not been properly enabled\n",
       "for the frontend that you are using. For more information, see\n",
       "https://altair-viz.github.io/user_guide/troubleshooting.html\n"
      ]
     },
     "execution_count": 81,
     "metadata": {},
     "output_type": "execute_result"
    }
   ],
   "source": [
    "alt.Chart(stacked).mark_line().encode(\n",
    "    x=alt.X(\n",
    "        \"year:O\",\n",
    "        title=\"Year\",\n",
    "    ),\n",
    "    y=alt.Y(\n",
    "        \"percent:Q\",\n",
    "        title=\"Four or more years of college\",\n",
    "        axis=alt.Axis(format=\"%\")\n",
    "    ),\n",
    "    color=alt.Color(\n",
    "        \"group:N\",\n",
    "        title=\"\",\n",
    "    )\n",
    ").properties(\n",
    "    title=\"As college eduction skyrockets, Native Americans lag behind\",\n",
    "    width=600\n",
    ")"
   ]
  },
  {
   "cell_type": "code",
   "execution_count": null,
   "metadata": {},
   "outputs": [],
   "source": []
  }
 ],
 "metadata": {
  "kernelspec": {
   "display_name": "Python 3",
   "language": "python",
   "name": "python3"
  },
  "language_info": {
   "codemirror_mode": {
    "name": "ipython",
    "version": 3
   },
   "file_extension": ".py",
   "mimetype": "text/x-python",
   "name": "python",
   "nbconvert_exporter": "python",
   "pygments_lexer": "ipython3",
   "version": "3.6.7"
  }
 },
 "nbformat": 4,
 "nbformat_minor": 2
}
